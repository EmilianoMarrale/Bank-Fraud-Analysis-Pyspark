{
 "cells": [
  {
   "cell_type": "code",
   "execution_count": 4,
   "id": "initial_id",
   "metadata": {
    "collapsed": true,
    "jupyter": {
     "outputs_hidden": true
    },
    "ExecuteTime": {
     "end_time": "2024-11-09T00:28:29.331033Z",
     "start_time": "2024-11-09T00:28:29.323079Z"
    }
   },
   "outputs": [],
   "source": [
    "from pyspark import SparkContext\n",
    "from pyspark.sql import SparkSession\n",
    "from pyspark.sql import functions as F\n",
    "from pyspark.sql.functions import isnan, when, count, col\n",
    "from pyspark.sql.types import StringType, BooleanType\n",
    "import matplotlib.pyplot as plt"
   ]
  },
  {
   "cell_type": "markdown",
   "id": "5eb17a074be79a20",
   "metadata": {
    "collapsed": false
   },
   "source": [
    "# Data Understanding Section"
   ]
  },
  {
   "cell_type": "markdown",
   "id": "2f05e74736ef18c2",
   "metadata": {
    "collapsed": false
   },
   "source": [
    "## Loading the dataset and spark setup"
   ]
  },
  {
   "cell_type": "code",
   "execution_count": 2,
   "id": "74b864cff0523daf",
   "metadata": {
    "collapsed": false,
    "ExecuteTime": {
     "end_time": "2024-11-08T21:44:09.084096Z",
     "start_time": "2024-11-08T21:44:03.738074Z"
    }
   },
   "outputs": [
    {
     "name": "stderr",
     "output_type": "stream",
     "text": [
      "24/11/08 22:44:06 WARN Utils: Your hostname, MacBook-Pro-di-Lorenzo-2.local resolves to a loopback address: 127.0.0.1; using 172.20.10.3 instead (on interface en0)\n",
      "24/11/08 22:44:06 WARN Utils: Set SPARK_LOCAL_IP if you need to bind to another address\n",
      "Setting default log level to \"WARN\".\n",
      "To adjust logging level use sc.setLogLevel(newLevel). For SparkR, use setLogLevel(newLevel).\n",
      "24/11/08 22:44:07 WARN NativeCodeLoader: Unable to load native-hadoop library for your platform... using builtin-java classes where applicable\n"
     ]
    }
   ],
   "source": [
    "spark = SparkSession.builder.appName(\"myapp\").master('local[*]').getOrCreate()"
   ]
  },
  {
   "cell_type": "code",
   "execution_count": 3,
   "id": "d0dbff8591848e88",
   "metadata": {
    "collapsed": false,
    "ExecuteTime": {
     "end_time": "2024-11-08T21:44:18.295862Z",
     "start_time": "2024-11-08T21:44:09.085731Z"
    }
   },
   "outputs": [
    {
     "name": "stderr",
     "output_type": "stream",
     "text": [
      "                                                                                \r"
     ]
    }
   ],
   "source": [
    "df = spark.read.csv('dataset/Base.csv', header=True, inferSchema=True)"
   ]
  },
  {
   "cell_type": "markdown",
   "id": "6a6cbac407c65f7c",
   "metadata": {
    "collapsed": false
   },
   "source": [
    "Here i'm checking how many cores are being used by spark"
   ]
  },
  {
   "cell_type": "code",
   "execution_count": 4,
   "id": "4b68a6af7559c3d1",
   "metadata": {
    "ExecuteTime": {
     "end_time": "2024-11-07T14:27:36.806554Z",
     "start_time": "2024-11-07T14:27:36.799886Z"
    },
    "collapsed": false
   },
   "outputs": [
    {
     "name": "stdout",
     "output_type": "stream",
     "text": [
      "Spark is using 12 cores.\n"
     ]
    }
   ],
   "source": [
    "num_cores = spark.sparkContext.defaultParallelism\n",
    "print(f\"Spark is using {num_cores} cores.\")"
   ]
  },
  {
   "cell_type": "markdown",
   "id": "9e4515327c216dc9",
   "metadata": {
    "collapsed": false
   },
   "source": [
    "## Exploring the dataset"
   ]
  },
  {
   "cell_type": "code",
   "execution_count": 5,
   "id": "1b25f3a1638a874c",
   "metadata": {
    "ExecuteTime": {
     "end_time": "2024-11-07T14:27:37.813128Z",
     "start_time": "2024-11-07T14:27:36.807656Z"
    },
    "collapsed": false
   },
   "outputs": [
    {
     "name": "stderr",
     "output_type": "stream",
     "text": [
      "24/11/07 15:27:37 WARN SparkStringUtils: Truncated the string representation of a plan since it was too large. This behavior can be adjusted by setting 'spark.sql.debug.maxToStringFields'.\n"
     ]
    },
    {
     "name": "stdout",
     "output_type": "stream",
     "text": [
      "+----------+------------------+---------------------+-------------------------+----------------------------+------------+------------------+----------------------+------------+------------+------------------+------------------+------------------+--------------------+--------------------------------+-----------------+-----------------+-------------+--------------+----------------+------------------+-----------------+---------------+---------------------+---------------+--------+-------------------------+---------+------------------+-------------------------+------------------+-----+\n",
      "|fraud_bool|            income|name_email_similarity|prev_address_months_count|current_address_months_count|customer_age|days_since_request|intended_balcon_amount|payment_type|zip_count_4w|       velocity_6h|      velocity_24h|       velocity_4w|bank_branch_count_8w|date_of_birth_distinct_emails_4w|employment_status|credit_risk_score|email_is_free|housing_status|phone_home_valid|phone_mobile_valid|bank_months_count|has_other_cards|proposed_credit_limit|foreign_request|  source|session_length_in_minutes|device_os|keep_alive_session|device_distinct_emails_8w|device_fraud_count|month|\n",
      "+----------+------------------+---------------------+-------------------------+----------------------------+------------+------------------+----------------------+------------+------------+------------------+------------------+------------------+--------------------+--------------------------------+-----------------+-----------------+-------------+--------------+----------------+------------------+-----------------+---------------+---------------------+---------------+--------+-------------------------+---------+------------------+-------------------------+------------------+-----+\n",
      "|         0|               0.3|    0.986506310633034|                       -1|                          25|          40|0.0067353870811739|    102.45371092469456|          AA|        1059|13096.035018400871| 7850.955007125409| 6742.080561007602|                   5|                               5|               CB|              163|            1|            BC|               0|                 1|                9|              0|               1500.0|              0|INTERNET|       16.224843433978073|    linux|                 1|                        1|                 0|    0|\n",
      "|         0|               0.8|   0.6174260062650061|                       -1|                          89|          20| 0.010095097878573|   -0.8495509687507287|          AD|        1658| 9223.283430930423| 5745.251480643791|5941.6648588359885|                   3|                              18|               CA|              154|            1|            BC|               1|                 1|                2|              0|               1500.0|              0|INTERNET|         3.36385371062431|    other|                 1|                        1|                 0|    0|\n",
      "|         0|               0.8|   0.9967070206409232|                        9|                          14|          40|0.0123163495250501|   -1.4903855214855013|          AB|        1095| 4471.472148765561| 5471.988958014066| 5992.555113248597|                  15|                              11|               CA|               89|            1|            BC|               0|                 1|               30|              0|                200.0|              0|INTERNET|        22.73055923496224|  windows|                 0|                        1|                 0|    0|\n",
      "|         0|0.6000000000000001|   0.4750999462380287|                       11|                          14|          30|0.0069908306305029|   -1.8631006767118188|          AB|        3483|14431.993621381194|  6755.34447929092| 5970.336830507939|                  11|                              13|               CA|               90|            1|            BC|               0|                 1|                1|              0|                200.0|              0|INTERNET|       15.215816122068803|    linux|                 1|                        1|                 0|    0|\n",
      "|         0|               0.9|   0.8423068370138775|                       -1|                          29|          40| 5.742625847255586|    47.152497798787614|          AA|        2339| 7601.511579253147| 5124.046929628144| 5940.734211620649|                   1|                               6|               CA|               91|            0|            BC|               1|                 1|               26|              0|                200.0|              0|INTERNET|        3.743047928033851|    other|                 0|                        1|                 0|    0|\n",
      "|         0|0.6000000000000001|   0.2948404635987846|                       -1|                         369|          30| 0.024231885459018|    -1.232556198255754|          AD|        1204|11556.955513727777| 7506.951275553085| 6482.924037404599|                 705|                               5|               CB|              134|            1|            BE|               1|                 1|               30|              0|                200.0|              0|INTERNET|        6.987315503150867|    linux|                 1|                        1|                 0|    0|\n",
      "|         0|               0.2|   0.7730854651787792|                       22|                           4|          40|0.0069193596555432|   -0.5446764953031848|          AB|        1998|11723.993606010376| 7864.277143635152| 6338.799156196561|                  28|                               8|               CA|               72|            1|            BC|               1|                 1|                1|              0|                200.0|              0|INTERNET|        28.19992278516053|      x11|                 1|                        1|                 0|    0|\n",
      "|         0|               0.8|    0.153880432777335|                       -1|                         103|          40|0.0451218390683624|   -1.1011844334405805|          AB|        1548| 4999.555800752307| 4526.861667090668| 6426.790816709525|                   6|                               7|               CA|              163|            0|            BE|               1|                 1|               25|              1|                200.0|              0|INTERNET|        11.23426418538036|    other|                 1|                        1|                 0|    0|\n",
      "|         0|               0.3|   0.5236546591292989|                       21|                           2|          30|0.0352056883298541|   -0.9557372072420892|          AB|        1781|6979.9940022111805|  4335.68534636426| 6624.957941677998|                   2|                              10|               CA|               35|            0|            BC|               1|                 0|                2|              0|                200.0|              0|INTERNET|        5.329386683741856|    other|                 1|                        1|                 0|    0|\n",
      "|         0|               0.8|   0.8344745881003516|                       -1|                         134|          20|0.0172445227162768|   -1.3563931999585843|          AD|        3113| 7549.992085884615| 6273.922109554705| 6312.998834706559|                  14|                              20|               CA|              201|            1|            BD|               1|                 1|               15|              0|               1500.0|              0|INTERNET|        4.103969778315406|    other|                 1|                        1|                 0|    0|\n",
      "|         0|               0.9|   0.4750148740479939|                       -1|                          67|          50| 0.008162056665278|   -0.9476592716157056|          AB|        2998| 7452.139159999395| 6026.624267390926| 6305.932829661439|                  11|                               9|               CA|              184|            0|            BA|               1|                 1|                1|              0|               1500.0|              0|INTERNET|        2.892487656957805|    other|                 1|                        1|                 0|    0|\n",
      "|         0|               0.8|    0.333012708390063|                       -1|                          14|          40| 3.075942229916E-4|    53.106292250257646|          AA|        2355| 5585.827390065845| 6381.506857907663| 6392.364926146369|                   2|                               6|               CA|              136|            0|            BA|               0|                 1|               15|              0|               1500.0|              0|INTERNET|        32.90878723758514|    other|                 1|                        1|                 0|    0|\n",
      "|         0|               0.1|   0.7674319367073007|                       -1|                          34|          20|0.0213463384257696|   -0.6698555056935508|          AB|        2491| 6652.516397836012| 6720.662514085203| 5987.011108097575|                 692|                              22|               CA|               84|            1|            BE|               0|                 1|               30|              0|                200.0|              0|INTERNET|        4.199729019965292|    other|                 0|                        2|                 0|    0|\n",
      "|         0|               0.9|   0.8660885394584622|                       -1|                          33|          30|0.0346622107876037|   -0.9752302011240784|          AD|        1249|10746.590276044511|5163.3884706598055| 6734.662449722037|                  18|                               8|               CA|              123|            0|            BA|               1|                 1|               30|              0|               1500.0|              0|INTERNET|       20.607228892568408|macintosh|                 0|                        1|                 0|    0|\n",
      "|         0|               0.9|   0.0526151465040271|                       -1|                         156|          30| 0.025659621303539|   -1.5701643273245482|          AD|        1685|10282.430084742316| 7499.069980705641|6785.3688568162925|                  28|                              16|               CB|               88|            1|            BA|               0|                 1|                1|              0|                200.0|              0|INTERNET|        6.324050439402358|    linux|                 1|                        1|                 0|    0|\n",
      "|         0|               0.9|   0.5207181701575837|                       -1|                          31|          50|0.0057293932249281|   -1.0082232359577044|          AC|         597| 2778.119599099028|6002.7218898542615| 6303.077748491805|                  12|                              26|               CA|               80|            1|            BC|               0|                 1|               10|              0|                200.0|              0|INTERNET|       3.7319703156421618|    linux|                 1|                        1|                 0|    0|\n",
      "|         0|               0.8|   0.1223696301274405|                       -1|                          20|          30| 0.023472004150741|   -0.8816399994033612|          AD|        1655| 4721.783888802728| 3678.936076294419| 6380.760673482324|                  26|                              15|               CA|              118|            0|            BC|               0|                 0|               30|              0|                200.0|              0|INTERNET|        7.836945285596486|  windows|                 1|                        1|                 0|    0|\n",
      "|         0|0.6000000000000001|   0.4829057489273572|                       -1|                          38|          40|  0.03792492562703|   -0.9946136114088656|          AC|        2774| 5692.610361988332| 5099.913245706173| 6706.703152553651|                   1|                              10|               CA|              137|            1|            BC|               0|                 1|               -1|              0|                200.0|              0|INTERNET|        4.486325958572444|    other|                 1|                        1|                 0|    0|\n",
      "|         0|               0.2|    0.527750863793881|                       13|                         114|          20|0.0031714486317217|   -0.8483468522514769|          AB|        4389|12256.250056284667|5390.9504308211135| 6330.661519362458|                1839|                              18|               CA|               49|            0|            BB|               1|                 1|               15|              0|                200.0|              0|INTERNET|       2.8381944569562854|  windows|                 1|                        2|                 0|    0|\n",
      "|         0|               0.5|   0.6748698374650179|                       -1|                         372|          30|0.0044061446464032|    30.300980254556983|          AA|        2069|12129.970774522912| 7063.487188962284|  6772.31948351953|                1590|                              11|               CA|              268|            1|            BE|               1|                 1|               25|              0|               1500.0|              0|INTERNET|        6.336454889251335|    other|                 1|                        1|                 0|    0|\n",
      "+----------+------------------+---------------------+-------------------------+----------------------------+------------+------------------+----------------------+------------+------------+------------------+------------------+------------------+--------------------+--------------------------------+-----------------+-----------------+-------------+--------------+----------------+------------------+-----------------+---------------+---------------------+---------------+--------+-------------------------+---------+------------------+-------------------------+------------------+-----+\n"
     ]
    }
   ],
   "source": [
    "df.show()"
   ]
  },
  {
   "cell_type": "code",
   "outputs": [
    {
     "name": "stdout",
     "output_type": "stream",
     "text": [
      "root\n",
      " |-- fraud_bool: integer (nullable = true)\n",
      " |-- income: double (nullable = true)\n",
      " |-- name_email_similarity: double (nullable = true)\n",
      " |-- prev_address_months_count: integer (nullable = true)\n",
      " |-- current_address_months_count: integer (nullable = true)\n",
      " |-- customer_age: integer (nullable = true)\n",
      " |-- days_since_request: double (nullable = true)\n",
      " |-- intended_balcon_amount: double (nullable = true)\n",
      " |-- payment_type: string (nullable = true)\n",
      " |-- zip_count_4w: integer (nullable = true)\n",
      " |-- velocity_6h: double (nullable = true)\n",
      " |-- velocity_24h: double (nullable = true)\n",
      " |-- velocity_4w: double (nullable = true)\n",
      " |-- bank_branch_count_8w: integer (nullable = true)\n",
      " |-- date_of_birth_distinct_emails_4w: integer (nullable = true)\n",
      " |-- employment_status: string (nullable = true)\n",
      " |-- credit_risk_score: integer (nullable = true)\n",
      " |-- email_is_free: integer (nullable = true)\n",
      " |-- housing_status: string (nullable = true)\n",
      " |-- phone_home_valid: integer (nullable = true)\n",
      " |-- phone_mobile_valid: integer (nullable = true)\n",
      " |-- bank_months_count: integer (nullable = true)\n",
      " |-- has_other_cards: integer (nullable = true)\n",
      " |-- proposed_credit_limit: double (nullable = true)\n",
      " |-- foreign_request: integer (nullable = true)\n",
      " |-- source: string (nullable = true)\n",
      " |-- session_length_in_minutes: double (nullable = true)\n",
      " |-- device_os: string (nullable = true)\n",
      " |-- keep_alive_session: integer (nullable = true)\n",
      " |-- device_distinct_emails_8w: integer (nullable = true)\n",
      " |-- device_fraud_count: integer (nullable = true)\n",
      " |-- month: integer (nullable = true)\n"
     ]
    }
   ],
   "source": [
    "# Print the schema of the DataFrame\n",
    "df.printSchema()"
   ],
   "metadata": {
    "collapsed": false,
    "ExecuteTime": {
     "end_time": "2024-11-07T17:26:10.101094Z",
     "start_time": "2024-11-07T17:26:10.073246Z"
    }
   },
   "id": "74e8be5b84ff5a22",
   "execution_count": 23
  },
  {
   "cell_type": "markdown",
   "source": [
    "## Get the number of unique values in each column of the DataFrame"
   ],
   "metadata": {
    "collapsed": false
   },
   "id": "bae9e4c551ba34c5"
  },
  {
   "cell_type": "code",
   "outputs": [
    {
     "name": "stderr",
     "output_type": "stream",
     "text": [
      "                                                                                \r"
     ]
    },
    {
     "name": "stdout",
     "output_type": "stream",
     "text": [
      "The column 'fraud_bool' has 2 unique values.\n"
     ]
    },
    {
     "name": "stderr",
     "output_type": "stream",
     "text": [
      "                                                                                \r"
     ]
    },
    {
     "name": "stdout",
     "output_type": "stream",
     "text": [
      "The column 'income' has 9 unique values.\n"
     ]
    },
    {
     "name": "stderr",
     "output_type": "stream",
     "text": [
      "                                                                                \r"
     ]
    },
    {
     "name": "stdout",
     "output_type": "stream",
     "text": [
      "The column 'name_email_similarity' has 998861 unique values.\n"
     ]
    },
    {
     "name": "stderr",
     "output_type": "stream",
     "text": [
      "                                                                                \r"
     ]
    },
    {
     "name": "stdout",
     "output_type": "stream",
     "text": [
      "The column 'prev_address_months_count' has 374 unique values.\n"
     ]
    },
    {
     "name": "stderr",
     "output_type": "stream",
     "text": [
      "                                                                                \r"
     ]
    },
    {
     "name": "stdout",
     "output_type": "stream",
     "text": [
      "The column 'current_address_months_count' has 423 unique values.\n"
     ]
    },
    {
     "name": "stderr",
     "output_type": "stream",
     "text": [
      "                                                                                \r"
     ]
    },
    {
     "name": "stdout",
     "output_type": "stream",
     "text": [
      "The column 'customer_age' has 9 unique values.\n"
     ]
    },
    {
     "name": "stderr",
     "output_type": "stream",
     "text": [
      "                                                                                \r"
     ]
    },
    {
     "name": "stdout",
     "output_type": "stream",
     "text": [
      "The column 'days_since_request' has 989330 unique values.\n"
     ]
    },
    {
     "name": "stderr",
     "output_type": "stream",
     "text": [
      "                                                                                \r"
     ]
    },
    {
     "name": "stdout",
     "output_type": "stream",
     "text": [
      "The column 'intended_balcon_amount' has 994971 unique values.\n"
     ]
    },
    {
     "name": "stderr",
     "output_type": "stream",
     "text": [
      "                                                                                \r"
     ]
    },
    {
     "name": "stdout",
     "output_type": "stream",
     "text": [
      "The column 'payment_type' has 5 unique values.\n"
     ]
    },
    {
     "name": "stderr",
     "output_type": "stream",
     "text": [
      "                                                                                \r"
     ]
    },
    {
     "name": "stdout",
     "output_type": "stream",
     "text": [
      "The column 'zip_count_4w' has 6306 unique values.\n"
     ]
    },
    {
     "name": "stderr",
     "output_type": "stream",
     "text": [
      "                                                                                \r"
     ]
    },
    {
     "name": "stdout",
     "output_type": "stream",
     "text": [
      "The column 'velocity_6h' has 998687 unique values.\n"
     ]
    },
    {
     "name": "stderr",
     "output_type": "stream",
     "text": [
      "                                                                                \r"
     ]
    },
    {
     "name": "stdout",
     "output_type": "stream",
     "text": [
      "The column 'velocity_24h' has 998940 unique values.\n"
     ]
    },
    {
     "name": "stderr",
     "output_type": "stream",
     "text": [
      "                                                                                \r"
     ]
    },
    {
     "name": "stdout",
     "output_type": "stream",
     "text": [
      "The column 'velocity_4w' has 998318 unique values.\n"
     ]
    },
    {
     "name": "stderr",
     "output_type": "stream",
     "text": [
      "                                                                                \r"
     ]
    },
    {
     "name": "stdout",
     "output_type": "stream",
     "text": [
      "The column 'bank_branch_count_8w' has 2326 unique values.\n"
     ]
    },
    {
     "name": "stderr",
     "output_type": "stream",
     "text": [
      "                                                                                \r"
     ]
    },
    {
     "name": "stdout",
     "output_type": "stream",
     "text": [
      "The column 'date_of_birth_distinct_emails_4w' has 40 unique values.\n"
     ]
    },
    {
     "name": "stderr",
     "output_type": "stream",
     "text": [
      "                                                                                \r"
     ]
    },
    {
     "name": "stdout",
     "output_type": "stream",
     "text": [
      "The column 'employment_status' has 7 unique values.\n"
     ]
    },
    {
     "name": "stderr",
     "output_type": "stream",
     "text": [
      "                                                                                \r"
     ]
    },
    {
     "name": "stdout",
     "output_type": "stream",
     "text": [
      "The column 'credit_risk_score' has 551 unique values.\n"
     ]
    },
    {
     "name": "stderr",
     "output_type": "stream",
     "text": [
      "                                                                                \r"
     ]
    },
    {
     "name": "stdout",
     "output_type": "stream",
     "text": [
      "The column 'email_is_free' has 2 unique values.\n"
     ]
    },
    {
     "name": "stderr",
     "output_type": "stream",
     "text": [
      "                                                                                \r"
     ]
    },
    {
     "name": "stdout",
     "output_type": "stream",
     "text": [
      "The column 'housing_status' has 7 unique values.\n"
     ]
    },
    {
     "name": "stderr",
     "output_type": "stream",
     "text": [
      "                                                                                \r"
     ]
    },
    {
     "name": "stdout",
     "output_type": "stream",
     "text": [
      "The column 'phone_home_valid' has 2 unique values.\n"
     ]
    },
    {
     "name": "stderr",
     "output_type": "stream",
     "text": [
      "                                                                                \r"
     ]
    },
    {
     "name": "stdout",
     "output_type": "stream",
     "text": [
      "The column 'phone_mobile_valid' has 2 unique values.\n"
     ]
    },
    {
     "name": "stderr",
     "output_type": "stream",
     "text": [
      "                                                                                \r"
     ]
    },
    {
     "name": "stdout",
     "output_type": "stream",
     "text": [
      "The column 'bank_months_count' has 33 unique values.\n"
     ]
    },
    {
     "name": "stderr",
     "output_type": "stream",
     "text": [
      "                                                                                \r"
     ]
    },
    {
     "name": "stdout",
     "output_type": "stream",
     "text": [
      "The column 'has_other_cards' has 2 unique values.\n"
     ]
    },
    {
     "name": "stderr",
     "output_type": "stream",
     "text": [
      "                                                                                \r"
     ]
    },
    {
     "name": "stdout",
     "output_type": "stream",
     "text": [
      "The column 'proposed_credit_limit' has 12 unique values.\n"
     ]
    },
    {
     "name": "stderr",
     "output_type": "stream",
     "text": [
      "                                                                                \r"
     ]
    },
    {
     "name": "stdout",
     "output_type": "stream",
     "text": [
      "The column 'foreign_request' has 2 unique values.\n"
     ]
    },
    {
     "name": "stderr",
     "output_type": "stream",
     "text": [
      "                                                                                \r"
     ]
    },
    {
     "name": "stdout",
     "output_type": "stream",
     "text": [
      "The column 'source' has 2 unique values.\n"
     ]
    },
    {
     "name": "stderr",
     "output_type": "stream",
     "text": [
      "                                                                                \r"
     ]
    },
    {
     "name": "stdout",
     "output_type": "stream",
     "text": [
      "The column 'session_length_in_minutes' has 994887 unique values.\n"
     ]
    },
    {
     "name": "stderr",
     "output_type": "stream",
     "text": [
      "                                                                                \r"
     ]
    },
    {
     "name": "stdout",
     "output_type": "stream",
     "text": [
      "The column 'device_os' has 5 unique values.\n"
     ]
    },
    {
     "name": "stderr",
     "output_type": "stream",
     "text": [
      "                                                                                \r"
     ]
    },
    {
     "name": "stdout",
     "output_type": "stream",
     "text": [
      "The column 'keep_alive_session' has 2 unique values.\n"
     ]
    },
    {
     "name": "stderr",
     "output_type": "stream",
     "text": [
      "                                                                                \r"
     ]
    },
    {
     "name": "stdout",
     "output_type": "stream",
     "text": [
      "The column 'device_distinct_emails_8w' has 4 unique values.\n"
     ]
    },
    {
     "name": "stderr",
     "output_type": "stream",
     "text": [
      "                                                                                \r"
     ]
    },
    {
     "name": "stdout",
     "output_type": "stream",
     "text": [
      "The column 'device_fraud_count' has 1 unique values.\n"
     ]
    },
    {
     "name": "stderr",
     "output_type": "stream",
     "text": [
      "[Stage 246:>                                                      (0 + 12) / 12]\r"
     ]
    },
    {
     "name": "stdout",
     "output_type": "stream",
     "text": [
      "The column 'month' has 8 unique values.\n"
     ]
    },
    {
     "name": "stderr",
     "output_type": "stream",
     "text": [
      "                                                                                \r"
     ]
    }
   ],
   "source": [
    "for col_name in df.columns:\n",
    "    print(f\"The column '{col_name}' has {df.select(col_name).distinct().count()} unique values.\")"
   ],
   "metadata": {
    "collapsed": false,
    "ExecuteTime": {
     "end_time": "2024-11-07T17:27:54.103242Z",
     "start_time": "2024-11-07T17:26:37.892505Z"
    }
   },
   "id": "569c08bf91577173",
   "execution_count": 24
  },
  {
   "cell_type": "markdown",
   "id": "1f51002b43f97d39",
   "metadata": {
    "collapsed": false
   },
   "source": [
    "## Looking for missing values"
   ]
  },
  {
   "cell_type": "code",
   "execution_count": 47,
   "id": "1a3b75e39773db1f",
   "metadata": {
    "ExecuteTime": {
     "end_time": "2024-11-06T15:59:13.573208Z",
     "start_time": "2024-11-06T15:55:52.950886Z"
    },
    "collapsed": false
   },
   "outputs": [
    {
     "name": "stderr",
     "output_type": "stream",
     "text": [
      "[Stage 3:===========================================>              (9 + 3) / 12]\r"
     ]
    },
    {
     "name": "stdout",
     "output_type": "stream",
     "text": [
      "+----------+------+---------------------+-------------------------+----------------------------+------------+------------------+----------------------+------------+------------+-----------+------------+-----------+--------------------+--------------------------------+-----------------+-----------------+-------------+--------------+----------------+------------------+-----------------+---------------+---------------------+---------------+------+-------------------------+---------+------------------+-------------------------+------------------+-----+\n",
      "|fraud_bool|income|name_email_similarity|prev_address_months_count|current_address_months_count|customer_age|days_since_request|intended_balcon_amount|payment_type|zip_count_4w|velocity_6h|velocity_24h|velocity_4w|bank_branch_count_8w|date_of_birth_distinct_emails_4w|employment_status|credit_risk_score|email_is_free|housing_status|phone_home_valid|phone_mobile_valid|bank_months_count|has_other_cards|proposed_credit_limit|foreign_request|source|session_length_in_minutes|device_os|keep_alive_session|device_distinct_emails_8w|device_fraud_count|month|\n",
      "+----------+------+---------------------+-------------------------+----------------------------+------------+------------------+----------------------+------------+------------+-----------+------------+-----------+--------------------+--------------------------------+-----------------+-----------------+-------------+--------------+----------------+------------------+-----------------+---------------+---------------------+---------------+------+-------------------------+---------+------------------+-------------------------+------------------+-----+\n",
      "|         0|     0|                    0|                        0|                           0|           0|                 0|                     0|           0|           0|          0|           0|          0|                   0|                               0|                0|                0|            0|             0|               0|                 0|                0|              0|                    0|              0|     0|                        0|        0|                 0|                        0|                 0|    0|\n",
      "+----------+------+---------------------+-------------------------+----------------------------+------------+------------------+----------------------+------------+------------+-----------+------------+-----------+--------------------+--------------------------------+-----------------+-----------------+-------------+--------------+----------------+------------------+-----------------+---------------+---------------------+---------------+------+-------------------------+---------+------------------+-------------------------+------------------+-----+\n"
     ]
    },
    {
     "name": "stderr",
     "output_type": "stream",
     "text": [
      "                                                                                \r"
     ]
    }
   ],
   "source": [
    "#Check if there are any missing values\n",
    "df.select([count(when(isnan(c) | col(c).isNull(), c)).alias(c) for c in df.columns]).show()"
   ]
  },
  {
   "cell_type": "markdown",
   "id": "d7d26e35f0605609",
   "metadata": {
    "collapsed": false
   },
   "source": [
    "There are no missing values in the dataset"
   ]
  },
  {
   "cell_type": "markdown",
   "id": "8ad0baadeadefe20",
   "metadata": {
    "collapsed": false
   },
   "source": [
    "## Checking the data types and values of the columns"
   ]
  },
  {
   "cell_type": "code",
   "execution_count": 49,
   "id": "fd3bb335e01fcbac",
   "metadata": {
    "ExecuteTime": {
     "end_time": "2024-11-06T16:11:02.972557Z",
     "start_time": "2024-11-06T16:10:23.186436Z"
    },
    "collapsed": false
   },
   "outputs": [
    {
     "name": "stderr",
     "output_type": "stream",
     "text": [
      "[Stage 8:>                                                          (0 + 1) / 1]\r"
     ]
    },
    {
     "name": "stdout",
     "output_type": "stream",
     "text": [
      "+-------+-------------------+-------------------+---------------------+-------------------------+----------------------------+------------------+--------------------+----------------------+------------+------------------+-------------------+------------------+-----------------+--------------------+--------------------------------+-----------------+-----------------+------------------+--------------+-------------------+-------------------+------------------+-----------------+---------------------+-------------------+--------+-------------------------+---------+-------------------+-------------------------+------------------+------------------+\n",
      "|summary|         fraud_bool|             income|name_email_similarity|prev_address_months_count|current_address_months_count|      customer_age|  days_since_request|intended_balcon_amount|payment_type|      zip_count_4w|        velocity_6h|      velocity_24h|      velocity_4w|bank_branch_count_8w|date_of_birth_distinct_emails_4w|employment_status|credit_risk_score|     email_is_free|housing_status|   phone_home_valid| phone_mobile_valid| bank_months_count|  has_other_cards|proposed_credit_limit|    foreign_request|  source|session_length_in_minutes|device_os| keep_alive_session|device_distinct_emails_8w|device_fraud_count|             month|\n",
      "+-------+-------------------+-------------------+---------------------+-------------------------+----------------------------+------------------+--------------------+----------------------+------------+------------------+-------------------+------------------+-----------------+--------------------+--------------------------------+-----------------+-----------------+------------------+--------------+-------------------+-------------------+------------------+-----------------+---------------------+-------------------+--------+-------------------------+---------+-------------------+-------------------------+------------------+------------------+\n",
      "|  count|            1000000|            1000000|              1000000|                  1000000|                     1000000|           1000000|             1000000|               1000000|     1000000|           1000000|            1000000|           1000000|          1000000|             1000000|                         1000000|          1000000|          1000000|           1000000|       1000000|            1000000|            1000000|           1000000|          1000000|              1000000|            1000000| 1000000|                  1000000|  1000000|            1000000|                  1000000|           1000000|           1000000|\n",
      "|   mean|           0.011029| 0.5626956000000494|   0.4936940949631286|                16.718568|                   86.587867|          33.68908|  1.0257052309958015|     8.661498537172458|        NULL|       1572.692049|  5665.296604795267|4769.7819649623025|4856.324015811874|          184.361849|                        9.503544|             NULL|       130.989595|          0.529886|          NULL|           0.417077|           0.889676|         10.839303|         0.222988|            515.85101|           0.025242|    NULL|        7.544940201289992|     NULL|           0.576947|                 1.018312|               0.0|          3.288674|\n",
      "| stddev|0.10443836491621279|0.29034260114469257|   0.2891247999953664|        44.04623003277077|           88.40659910389631|12.025798658443978|   5.381834634593076|    20.236154606246828|        NULL|1005.3745649573585| 3009.3806653299034|1479.2126120157054|919.8439342098843|   459.6253290167373|               5.033791888738027|             NULL|69.68181240676036|0.4991062773709387|          NULL|0.49307607850616614|0.31329333407640986|12.116874526578174|0.416250555699959|    487.5599018547752|0.15685938301824956|    NULL|        8.033106369073147|     NULL|0.49404392848248174|      0.18076145421716205|               0.0|2.2099941642000362|\n",
      "|    min|                  0|                0.1| 1.434550484527563...|                       -1|                          -1|                10|4.036859788721786E-9|   -15.530554840076814|          AA|                 1|-170.60307235124628|1300.3073144849477|2825.748405284728|                   0|                               0|               CA|             -170|                 0|            BA|                  0|                  0|                -1|                0|                190.0|                  0|INTERNET|                     -1.0|    linux|                  0|                       -1|                 0|                 0|\n",
      "|    max|                  1|                0.9|   0.9999993177937188|                      383|                         428|                90|   78.45690383509861|     112.9569276953714|          AE|              6700| 16715.565404174275| 9506.896596111665|6994.764200834217|                2385|                              39|               CG|              389|                 1|            BG|                  1|                  1|                32|                1|               2100.0|                  1| TELEAPP|        85.89914319274027|      x11|                  1|                        2|                 0|                 7|\n",
      "+-------+-------------------+-------------------+---------------------+-------------------------+----------------------------+------------------+--------------------+----------------------+------------+------------------+-------------------+------------------+-----------------+--------------------+--------------------------------+-----------------+-----------------+------------------+--------------+-------------------+-------------------+------------------+-----------------+---------------------+-------------------+--------+-------------------------+---------+-------------------+-------------------------+------------------+------------------+\n"
     ]
    },
    {
     "name": "stderr",
     "output_type": "stream",
     "text": [
      "                                                                                \r"
     ]
    }
   ],
   "source": [
    "#Check for outliers\n",
    "df.describe().show()"
   ]
  },
  {
   "cell_type": "markdown",
   "id": "7f343c71da85dba6",
   "metadata": {
    "collapsed": false
   },
   "source": [
    "## Looking at the distribution of the target variable 'fraud_bool'"
   ]
  },
  {
   "cell_type": "code",
   "execution_count": 6,
   "id": "4455548fedf1565e",
   "metadata": {
    "ExecuteTime": {
     "end_time": "2024-11-07T15:40:25.634480Z",
     "start_time": "2024-11-07T15:40:17.732294Z"
    },
    "collapsed": false
   },
   "outputs": [
    {
     "name": "stderr",
     "output_type": "stream",
     "text": [
      "                                                                                \r"
     ]
    },
    {
     "name": "stdout",
     "output_type": "stream",
     "text": [
      "+----------+------+\n",
      "|fraud_bool| count|\n",
      "+----------+------+\n",
      "|         1| 11029|\n",
      "|         0|988971|\n",
      "+----------+------+\n"
     ]
    },
    {
     "name": "stderr",
     "output_type": "stream",
     "text": [
      "[Stage 10:>                                                       (0 + 12) / 12]\r"
     ]
    },
    {
     "name": "stdout",
     "output_type": "stream",
     "text": [
      "+----------+------+-----------------+\n",
      "|fraud_bool| count|       percentage|\n",
      "+----------+------+-----------------+\n",
      "|         1| 11029|           1.1029|\n",
      "|         0|988971|98.89710000000001|\n",
      "+----------+------+-----------------+\n"
     ]
    },
    {
     "name": "stderr",
     "output_type": "stream",
     "text": [
      "                                                                                \r"
     ]
    }
   ],
   "source": [
    "#Distribution of the target variable 'fraud_bool'\n",
    "df.groupBy('fraud_bool').count().show()\n",
    "\n",
    "#Print the distribution in percentage\n",
    "df.groupBy('fraud_bool').count().withColumn('percentage', col('count') / df.count() * 100).show()"
   ]
  },
  {
   "cell_type": "code",
   "execution_count": 10,
   "id": "9a78a66c2134c730",
   "metadata": {
    "ExecuteTime": {
     "end_time": "2024-11-07T15:54:04.941975Z",
     "start_time": "2024-11-07T15:53:50.189759Z"
    },
    "collapsed": false
   },
   "outputs": [
    {
     "name": "stderr",
     "output_type": "stream",
     "text": [
      "                                                                                \r"
     ]
    },
    {
     "data": {
      "text/plain": [
       "[Text(0, 0, 'Non Fraudulent'), Text(1, 0, 'Fraudulent')]"
      ]
     },
     "execution_count": 10,
     "metadata": {},
     "output_type": "execute_result"
    },
    {
     "data": {
      "image/png": "[encoded data removed]",
      "text/plain": [
       "<Figure size 1000x500 with 1 Axes>"
      ]
     },
     "metadata": {},
     "output_type": "display_data"
    }
   ],
   "source": [
    "# Convert PySpark DataFrame to Pandas DataFrame\n",
    "pandas_df = df.toPandas()\n",
    "\n",
    "# Plot the distribution of the 'fraud_bool' column\n",
    "plot = pandas_df['fraud_bool'].value_counts().plot(kind='bar', figsize=(10, 5), title='Distribution of the target variable \"fraud_bool\"', color=['blue', 'red'])\n",
    "plot.set_xticklabels(['Non Fraudulent', 'Fraudulent'], rotation=0)"
   ]
  },
  {
   "cell_type": "markdown",
   "id": "2e2e590492d0ac9c",
   "metadata": {
    "collapsed": false
   },
   "source": [
    "The dataset is, as expected, highly imbalanced towards the non-fraudulent transactions. This is a common issue in fraud detection problems, and we will need to address it later on."
   ]
  },
  {
   "cell_type": "markdown",
   "id": "ae20e5f78af1b36e",
   "metadata": {
    "collapsed": false
   },
   "source": [
    "## Looking at the distribution of the Income Value"
   ]
  },
  {
   "cell_type": "code",
   "execution_count": 5,
   "id": "df16415075caff89",
   "metadata": {
    "ExecuteTime": {
     "end_time": "2024-11-07T15:28:38.867702Z",
     "start_time": "2024-11-07T15:28:25.481283Z"
    },
    "collapsed": false
   },
   "outputs": [
    {
     "name": "stderr",
     "output_type": "stream",
     "text": [
      "                                                                                \r"
     ]
    },
    {
     "data": {
      "image/png": "[encoded data removed]",
      "text/plain": [
       "<Figure size 3000x1000 with 1 Axes>"
      ]
     },
     "metadata": {},
     "output_type": "display_data"
    }
   ],
   "source": [
    "# Plotting the distribution of the 'Income' column\n",
    "\n",
    "# Convert PySpark DataFrame to Pandas DataFrame\n",
    "pandas_df = df.toPandas()\n",
    "\n",
    "# Plot the distribution of the 'Income' column\n",
    "pandas_df['income'].plot(kind='hist', bins=100, figsize=(30, 10), title='Distribution of the Income column')\n",
    "plt.show()"
   ]
  },
  {
   "cell_type": "code",
   "execution_count": 11,
   "id": "26c94851e3fd948a",
   "metadata": {
    "ExecuteTime": {
     "end_time": "2024-11-07T16:00:16.331471Z",
     "start_time": "2024-11-07T15:59:57.315177Z"
    },
    "collapsed": false
   },
   "outputs": [
    {
     "name": "stderr",
     "output_type": "stream",
     "text": [
      "                                                                                \r"
     ]
    },
    {
     "data": {
      "image/png": "[encoded data removed]",
      "text/plain": [
       "<Figure size 3000x1000 with 1 Axes>"
      ]
     },
     "metadata": {},
     "output_type": "display_data"
    }
   ],
   "source": [
    "# Convert PySpark DataFrame to Pandas DataFrame\n",
    "pandas_df = df.toPandas()\n",
    "\n",
    "# Plot the distribution of the 'Income' column of the fraudulent transactions\n",
    "pandas_df[pandas_df['fraud_bool'] == 1]['income'].plot(kind='hist', bins=100, figsize=(30, 10), title='Distribution of the Income column of the fraudulent transactions')\n",
    "plt.show()"
   ]
  },
  {
   "cell_type": "code",
   "execution_count": 12,
   "id": "ac511599bc5b96f1",
   "metadata": {
    "ExecuteTime": {
     "end_time": "2024-11-07T16:01:29.505171Z",
     "start_time": "2024-11-07T16:01:29.163153Z"
    },
    "collapsed": false
   },
   "outputs": [
    {
     "data": {
      "image/png": "[encoded data removed]",
      "text/plain": [
       "<Figure size 3000x1000 with 1 Axes>"
      ]
     },
     "metadata": {},
     "output_type": "display_data"
    }
   ],
   "source": [
    "pandas_df[pandas_df['fraud_bool'] == 0]['income'].plot(kind='hist', bins=100, figsize=(30, 10),\n",
    "                                                       title='Distribution of the Income column of the non-fraudulent transactions')\n",
    "plt.show()"
   ]
  },
  {
   "cell_type": "markdown",
   "id": "431eca7ff22525e9",
   "metadata": {
    "collapsed": false
   },
   "source": [
    "We can notice that the fraudulent transactions applicants have a higher income value compared to the non-fraudulent transactions. "
   ]
  },
  {
   "cell_type": "markdown",
   "id": "d628b279fdfafe16",
   "metadata": {
    "collapsed": false
   },
   "source": [
    "## Looking at the distribution of the Age Value"
   ]
  },
  {
   "cell_type": "code",
   "execution_count": 14,
   "id": "20e14f94b8b08451",
   "metadata": {
    "ExecuteTime": {
     "end_time": "2024-11-07T16:03:44.707688Z",
     "start_time": "2024-11-07T16:03:40.807346Z"
    },
    "collapsed": false
   },
   "outputs": [
    {
     "name": "stderr",
     "output_type": "stream",
     "text": [
      "[Stage 18:>                                                       (0 + 12) / 12]\r"
     ]
    },
    {
     "name": "stdout",
     "output_type": "stream",
     "text": [
      "+------------+------+\n",
      "|customer_age| count|\n",
      "+------------+------+\n",
      "|          40|238712|\n",
      "|          20|245855|\n",
      "|          10| 20987|\n",
      "|          50|140353|\n",
      "|          80|  1297|\n",
      "|          70|  6517|\n",
      "|          60| 34770|\n",
      "|          90|    76|\n",
      "|          30|311433|\n",
      "+------------+------+\n"
     ]
    },
    {
     "name": "stderr",
     "output_type": "stream",
     "text": [
      "                                                                                \r"
     ]
    }
   ],
   "source": [
    "df.groupBy('customer_age').count().show()"
   ]
  },
  {
   "cell_type": "markdown",
   "id": "de06a4702bd09cd7",
   "metadata": {
    "collapsed": false
   },
   "source": [
    "We can see that the age values are not continuous, but discrete. This is because the age values are binned into ranges. Also the majority of the customers are in the age range of 20-40."
   ]
  },
  {
   "cell_type": "code",
   "execution_count": 20,
   "id": "cf6db4e76b7c26eb",
   "metadata": {
    "ExecuteTime": {
     "end_time": "2024-11-07T16:09:59.042607Z",
     "start_time": "2024-11-07T16:09:55.006028Z"
    },
    "collapsed": false
   },
   "outputs": [
    {
     "name": "stderr",
     "output_type": "stream",
     "text": [
      "                                                                                \r"
     ]
    },
    {
     "name": "stdout",
     "output_type": "stream",
     "text": [
      "Non-Fraudulent Transactions by Customer Age:\n"
     ]
    },
    {
     "name": "stderr",
     "output_type": "stream",
     "text": [
      "[Stage 51:====>                                                   (1 + 11) / 12]\r"
     ]
    },
    {
     "name": "stdout",
     "output_type": "stream",
     "text": [
      "+------------+------+--------------------+\n",
      "|customer_age| count|          percentage|\n",
      "+------------+------+--------------------+\n",
      "|          30|308844|  31.228822685397244|\n",
      "|          20|244650|  24.737833566403868|\n",
      "|          40|235836|  23.846604197696394|\n",
      "|          50|137548|  13.908193465733575|\n",
      "|          60| 33621|  3.3995941235890634|\n",
      "|          10| 20913|   2.114622167889655|\n",
      "|          70|  6254|  0.6323744578961366|\n",
      "|          80|  1233| 0.12467504102749222|\n",
      "|          90|    72|0.007280294366568889|\n",
      "+------------+------+--------------------+\n"
     ]
    },
    {
     "name": "stderr",
     "output_type": "stream",
     "text": [
      "                                                                                \r"
     ]
    }
   ],
   "source": [
    "non_fraudulent_age = df.filter(df['fraud_bool'] == 0).groupBy('customer_age').count()\n",
    "non_fraudulent_age = non_fraudulent_age.withColumn('percentage', (col('count') / df.filter(df['fraud_bool'] == 0).count()) * 100)\n",
    "non_fraudulent_age = non_fraudulent_age.orderBy('percentage', ascending=False)\n",
    "print(\"Non-Fraudulent Transactions by Customer Age:\")\n",
    "non_fraudulent_age.show()"
   ]
  },
  {
   "cell_type": "code",
   "execution_count": 21,
   "id": "852b39d14c9471c6",
   "metadata": {
    "ExecuteTime": {
     "end_time": "2024-11-07T16:10:03.230028Z",
     "start_time": "2024-11-07T16:09:59.043680Z"
    },
    "collapsed": false
   },
   "outputs": [
    {
     "name": "stderr",
     "output_type": "stream",
     "text": [
      "                                                                                \r"
     ]
    },
    {
     "name": "stdout",
     "output_type": "stream",
     "text": [
      "Fraudulent Transactions by Customer Age:\n"
     ]
    },
    {
     "name": "stderr",
     "output_type": "stream",
     "text": [
      "[Stage 57:>                                                       (0 + 12) / 12]\r"
     ]
    },
    {
     "name": "stdout",
     "output_type": "stream",
     "text": [
      "+------------+-----+-------------------+\n",
      "|customer_age|count|         percentage|\n",
      "+------------+-----+-------------------+\n",
      "|          40| 2876| 26.076706863722915|\n",
      "|          50| 2805| 25.432949496781216|\n",
      "|          30| 2589| 23.474476380451538|\n",
      "|          20| 1205|   10.9257412276725|\n",
      "|          60| 1149| 10.417988938253695|\n",
      "|          70|  263|  2.384622359234745|\n",
      "|          10|   74|  0.670958382446278|\n",
      "|          80|   64| 0.5802883307643485|\n",
      "|          90|    4|0.03626802067277178|\n",
      "+------------+-----+-------------------+\n"
     ]
    },
    {
     "name": "stderr",
     "output_type": "stream",
     "text": [
      "                                                                                \r"
     ]
    }
   ],
   "source": [
    "# Filter for fraudulent transactions, group by customer_age, count occurrences, and calculate percentage\n",
    "fraudulent_age = df.filter(df['fraud_bool'] == 1).groupBy('customer_age').count()\n",
    "fraudulent_age = fraudulent_age.withColumn('percentage', (col('count') / df.filter(df['fraud_bool'] == 1).count()) * 100)\n",
    "fraudulent_age = fraudulent_age.orderBy('percentage', ascending=False)\n",
    "print(\"Fraudulent Transactions by Customer Age:\")\n",
    "fraudulent_age.show()"
   ]
  },
  {
   "cell_type": "markdown",
   "id": "f88053121e69e555",
   "metadata": {
    "collapsed": false
   },
   "source": [
    "From these data i think that we can say that there is a slight shift in fraudulent transactions towards the brackets 40 and 50 compared to non-fraudulent ones. The lower percentage of fraudulent transactions among young people like those in the 20 bracket could indicate more attention by the customers or maybe that having in general less money they tend to be less targeted by fraudsters. "
   ]
  },
  {
   "cell_type": "markdown",
   "source": [
    "## Checking the number of missing values among the columns that by dataset description contains them with the value '-1'"
   ],
   "metadata": {
    "collapsed": false
   },
   "id": "da997f7b960d0bab"
  },
  {
   "cell_type": "code",
   "execution_count": 5,
   "id": "8eee5dd5b0ad1a31",
   "metadata": {
    "collapsed": false,
    "ExecuteTime": {
     "end_time": "2024-11-09T00:30:00.627454Z",
     "start_time": "2024-11-09T00:29:41.853410Z"
    }
   },
   "outputs": [
    {
     "name": "stderr",
     "output_type": "stream",
     "text": [
      "[Stage 17:>                                                       (0 + 12) / 12]\r"
     ]
    },
    {
     "name": "stdout",
     "output_type": "stream",
     "text": [
      "            prev_address_months_count  current_address_months_count  \\\n",
      "fraud_bool                                                            \n",
      "1                           91.885030                      0.126938   \n",
      "0                           71.062347                      0.428728   \n",
      "\n",
      "            intended_balcon_amount  bank_months_count  \\\n",
      "fraud_bool                                              \n",
      "1                        88.376099          37.537401   \n",
      "0                        74.094791          25.227737   \n",
      "\n",
      "            session_length_in_minutes  device_distinct_emails_8w  \n",
      "fraud_bool                                                        \n",
      "1                            0.163206                   0.036268  \n",
      "0                            0.201927                   0.035896  \n"
     ]
    },
    {
     "name": "stderr",
     "output_type": "stream",
     "text": [
      "                                                                                \r"
     ]
    }
   ],
   "source": [
    "import pandas as pd\n",
    "\n",
    "# List of features to check for missing values\n",
    "missing_features = ['prev_address_months_count', 'current_address_months_count', 'intended_balcon_amount', 'bank_months_count', 'session_length_in_minutes', 'device_distinct_emails_8w']\n",
    "\n",
    "# Initialize an empty DataFrame to hold the percentage of missing values for each feature\n",
    "missing_vals = pd.DataFrame()\n",
    "\n",
    "# For each feature, replace -1 values with NaN, calculate the percentage of missing values, and add to the missing_vals DataFrame\n",
    "for feature in missing_features:\n",
    "    df = df.withColumn(feature, when(col(feature) < 0, None).otherwise(col(feature)))  # Replace -1 values with NaN\n",
    "    missing_vals_col = df.groupBy('fraud_bool').agg(\n",
    "        (count(when(col(feature).isNull(), feature)) / count('*') * 100).alias(feature)\n",
    "    ).toPandas().set_index('fraud_bool')[feature]\n",
    "    missing_vals[feature] = missing_vals_col\n",
    "\n",
    "print(missing_vals)"
   ]
  },
  {
   "cell_type": "code",
   "outputs": [
    {
     "name": "stdout",
     "output_type": "stream",
     "text": [
      "                         feature  fraud_bool  missing_vals\n",
      "0      prev_address_months_count           1     91.885030\n",
      "1      prev_address_months_count           0     71.062347\n",
      "2   current_address_months_count           1      0.126938\n",
      "3   current_address_months_count           0      0.428728\n",
      "4         intended_balcon_amount           1     88.376099\n",
      "5         intended_balcon_amount           0     74.094791\n",
      "6              bank_months_count           1     37.537401\n",
      "7              bank_months_count           0     25.227737\n",
      "8      session_length_in_minutes           1      0.163206\n",
      "9      session_length_in_minutes           0      0.201927\n",
      "10     device_distinct_emails_8w           1      0.036268\n",
      "11     device_distinct_emails_8w           0      0.035896\n"
     ]
    }
   ],
   "source": [
    "# Reshape the missing_vals DataFrame from wide to long format\n",
    "missing_vals = pd.DataFrame(missing_vals.T.stack())\n",
    "\n",
    "# Reset the index and rename the columns\n",
    "missing_vals.reset_index(inplace=True)\n",
    "missing_vals.rename(columns={'level_0': 'feature', 0: 'missing_vals'}, inplace=True)\n",
    "\n",
    "print(missing_vals)"
   ],
   "metadata": {
    "collapsed": false,
    "ExecuteTime": {
     "end_time": "2024-11-09T00:32:47.992431Z",
     "start_time": "2024-11-09T00:32:47.986190Z"
    }
   },
   "id": "cdb94a0bde7fbbc8",
   "execution_count": 6
  },
  {
   "cell_type": "code",
   "outputs": [
    {
     "data": {
      "text/plain": "<Figure size 800x600 with 0 Axes>"
     },
     "metadata": {},
     "output_type": "display_data"
    },
    {
     "data": {
      "text/plain": "<Figure size 800x400 with 1 Axes>",
      "image/png": "[encoded data removed]"
     },
     "metadata": {},
     "output_type": "display_data"
    }
   ],
   "source": [
    "import seaborn as sns\n",
    "\n",
    "# Set up plot\n",
    "plt.figure(figsize=(8, 6))\n",
    "\n",
    "# Create bar plot\n",
    "sns.catplot(data=missing_vals, kind=\"bar\", x=\"feature\", y=\"missing_vals\", hue=\"fraud_bool\", alpha=.6, height=4, aspect=2, legend=True, legend_out=False, palette=['blue', 'red'])\n",
    "\n",
    "# Customize labels and legend\n",
    "plt.xlabel(\"Feature\", fontsize=12)\n",
    "plt.ylabel(\"Missing Values\", fontsize=12)\n",
    "plt.xticks(rotation=45, fontsize=10)\n",
    "plt.yticks(fontsize=10)\n",
    "plt.title(\"Missing Values of Features by Fraud Status\", fontsize=14)\n",
    "plt.legend(title=\"Fraud\", fontsize=10)\n",
    "\n",
    "# Display plot\n",
    "plt.show()"
   ],
   "metadata": {
    "collapsed": false,
    "ExecuteTime": {
     "end_time": "2024-11-09T00:36:01.685168Z",
     "start_time": "2024-11-09T00:36:01.547571Z"
    }
   },
   "id": "e5a8ee4a160ddf4f",
   "execution_count": 12
  },
  {
   "cell_type": "markdown",
   "source": [
    "When examining features like prev_address_months_count, intended_balcon_amount, and bank_months_count, it becomes apparent that a considerable number of missing values exist in their original distribution. However, despite these missing values, these features still hold informative value and exhibit correlation with the target feature."
   ],
   "metadata": {
    "collapsed": false
   },
   "id": "789b2a5168a06ae6"
  },
  {
   "cell_type": "code",
   "outputs": [],
   "source": [],
   "metadata": {
    "collapsed": false
   },
   "id": "39a33e4f8005efa9"
  }
 ],
 "metadata": {
  "kernelspec": {
   "display_name": "Python 3 (ipykernel)",
   "language": "python",
   "name": "python3"
  },
  "language_info": {
   "codemirror_mode": {
    "name": "ipython",
    "version": 3
   },
   "file_extension": ".py",
   "mimetype": "text/x-python",
   "name": "python",
   "nbconvert_exporter": "python",
   "pygments_lexer": "ipython3",
   "version": "3.11.0"
  }
 },
 "nbformat": 4,
 "nbformat_minor": 5
}
