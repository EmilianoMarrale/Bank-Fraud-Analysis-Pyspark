{
 "cells": [
  {
   "cell_type": "markdown",
   "id": "bed42dda",
   "metadata": {},
   "source": [
    "# 1) Data Loading"
   ]
  },
  {
   "cell_type": "code",
   "execution_count": 1,
   "id": "initial_id",
   "metadata": {
    "ExecuteTime": {
     "end_time": "2024-12-03T15:16:53.221775Z",
     "start_time": "2024-12-03T15:16:53.219402Z"
    },
    "collapsed": true
   },
   "outputs": [],
   "source": [
    "from pyspark.sql import SparkSession\n",
    "from pyspark.sql import functions as F\n",
    "from pyspark.sql.functions import isnan, when, count, col\n",
    "from pyspark.ml.feature import VectorAssembler\n",
    "from pyspark.ml.tuning import CrossValidator, ParamGridBuilder\n",
    "import pandas as pd\n",
    "import matplotlib.pyplot as plt\n",
    "from sklearn.metrics import roc_curve, auc\n",
    "from pyspark.ml.classification import GBTClassifier\n",
    "from pyspark.ml.evaluation import BinaryClassificationEvaluator\n",
    "import numpy as np\n",
    "import seaborn as sns\n",
    "from sklearn.metrics import ConfusionMatrixDisplay"
   ]
  },
  {
   "cell_type": "code",
   "execution_count": 2,
   "id": "edc09673dccc84ed",
   "metadata": {
    "ExecuteTime": {
     "end_time": "2024-12-03T14:16:21.951309Z",
     "start_time": "2024-12-03T14:16:21.923193Z"
    },
    "collapsed": false
   },
   "outputs": [
    {
     "name": "stderr",
     "output_type": "stream",
     "text": [
      "24/12/05 10:23:47 WARN Utils: Your hostname, MacBook-Air-mba.local resolves to a loopback address: 127.0.0.1; using 192.168.1.143 instead (on interface en0)\n",
      "24/12/05 10:23:47 WARN Utils: Set SPARK_LOCAL_IP if you need to bind to another address\n",
      "Setting default log level to \"WARN\".\n",
      "To adjust logging level use sc.setLogLevel(newLevel). For SparkR, use setLogLevel(newLevel).\n",
      "24/12/05 10:23:48 WARN NativeCodeLoader: Unable to load native-hadoop library for your platform... using builtin-java classes where applicable\n"
     ]
    }
   ],
   "source": [
    "spark = SparkSession.builder \\\n",
    "    .appName(\"myapp\") \\\n",
    "    .config(\"spark.driver.memory\", \"3g\") \\\n",
    "    .config(\"spark.executor.memory\", \"3g\") \\\n",
    "    .config(\"spark.sql.shuffle.partitions\", \"100\") \\\n",
    "    .master('local[*]') \\\n",
    "    .getOrCreate()"
   ]
  },
  {
   "cell_type": "code",
   "execution_count": 3,
   "id": "bd287ec52140e890",
   "metadata": {
    "ExecuteTime": {
     "end_time": "2024-12-03T14:16:25.914338Z",
     "start_time": "2024-12-03T14:16:21.952272Z"
    },
    "collapsed": false
   },
   "outputs": [
    {
     "name": "stderr",
     "output_type": "stream",
     "text": [
      "                                                                                \r"
     ]
    }
   ],
   "source": [
    "# df = spark.read.csv('dataset/preprocessed_data/preprocessedData_SI.csv', header=True, inferSchema=True)\n",
    "df = spark.read.csv('/Users/savato/Data Science/ddam/dataset/PreprocessedDataStringIndexed.csv/dataset_preprocessed.csv', header=True, inferSchema=True)"
   ]
  },
  {
   "cell_type": "code",
   "execution_count": 4,
   "id": "31cb99e17de42afb",
   "metadata": {
    "ExecuteTime": {
     "end_time": "2024-12-03T16:04:44.807258Z",
     "start_time": "2024-12-03T16:04:44.630783Z"
    },
    "collapsed": false
   },
   "outputs": [],
   "source": [
    "#Rename target_bool column to label\n",
    "df_transformed = df.withColumnRenamed(\"fraud_bool\", \"label\")"
   ]
  },
  {
   "cell_type": "markdown",
   "id": "87fb4cd5",
   "metadata": {},
   "source": [
    "# 2) Train Test Split"
   ]
  },
  {
   "cell_type": "code",
   "execution_count": 5,
   "id": "b1016a72",
   "metadata": {},
   "outputs": [
    {
     "name": "stdout",
     "output_type": "stream",
     "text": [
      "+-----+-------------------+---------------------+-------------------------+----------------------------+------------+--------------------+----------------------+-------------------+-------------------+-------------------+------------------+--------------------+--------------------------------+-------------------+-------------+----------------+------------------+-------------------+---------------+---------------------+---------------+-------------------------+------------------+-------------------------+-------------+--------------------+-------------------------+----------------------+--------------+-----------------+\n",
      "|label|             income|name_email_similarity|prev_address_months_count|current_address_months_count|customer_age|  days_since_request|intended_balcon_amount|       zip_count_4w|        velocity_6h|       velocity_24h|       velocity_4w|bank_branch_count_8w|date_of_birth_distinct_emails_4w|  credit_risk_score|email_is_free|phone_home_valid|phone_mobile_valid|  bank_months_count|has_other_cards|proposed_credit_limit|foreign_request|session_length_in_minutes|keep_alive_session|device_distinct_emails_8w|month_encoded|payment_type_encoded|employment_status_encoded|housing_status_encoded|source_encoded|device_os_encoded|\n",
      "+-----+-------------------+---------------------+-------------------------+----------------------------+------------+--------------------+----------------------+-------------------+-------------------+-------------------+------------------+--------------------+--------------------------------+-------------------+-------------+----------------+------------------+-------------------+---------------+---------------------+---------------+-------------------------+------------------+-------------------------+-------------+--------------------+-------------------------+----------------------+--------------+-----------------+\n",
      "|  0.0|0.24999999999999997|   0.9865069642778406|                      0.0|         0.06060606060606061|       0.375|8.584818818261238E-5|    0.9182549415443709| 0.1579340200029855|  0.785651174166293| 0.7982180498914875|0.9393900977548802|0.002096436058700...|              0.1282051282051282| 0.5957066189624329|          1.0|             0.0|               1.0|0.30303030303030304|            0.0|   0.6858638743455499|            0.0|       0.1982164932946896|               1.0|       0.6666666666666666|            0|                 1.0|                      1.0|                   0.0|           0.0|              1.0|\n",
      "|  0.0| 0.8750000000000001|   0.6174258786549276|                      0.0|          0.2097902097902098|       0.125|1.286705611459074...|   0.11426018769786206|0.24735035079862663| 0.5563065722304428| 0.5416311227016546|0.7473985723147334|0.001257861635220...|              0.4615384615384615| 0.5796064400715564|          1.0|             1.0|               1.0|0.09090909090909091|            0.0|   0.6858638743455499|            0.0|      0.05021745382397367|               1.0|       0.6666666666666666|            0|                 3.0|                      0.0|                   0.0|           0.0|              0.0|\n",
      "|  0.0| 0.8750000000000001|   0.9967076958781975|     0.026041666666666664|         0.03496503496503497|       0.375|1.569823034912342E-4|   0.10927266253129204|0.16330795641140466|0.27490399776420776| 0.5083331820770984|0.7596053513024588|0.006289308176100628|             0.28205128205128205|0.46332737030411447|          1.0|             0.0|               1.0| 0.9393939393939394|            0.0| 0.005235602094240838|            0.0|      0.27308162500898786|               0.0|       0.6666666666666666|            0|                 0.0|                      0.0|                   0.0|           0.0|              2.0|\n",
      "|  0.0| 0.6250000000000001|    0.475099517357662|                  0.03125|         0.03496503496503497|        0.25|8.910403358124086E-5|   0.10637187291450204| 0.5197790715032093| 0.8647667298850175| 0.6647142896524573|0.7542759681026214|0.004612159329140461|              0.3333333333333333|0.46511627906976744|          1.0|             0.0|               1.0|0.06060606060606061|            0.0| 0.005235602094240838|            0.0|      0.18660501733719628|               1.0|       0.6666666666666666|            0|                 0.0|                      0.0|                   0.0|           0.0|              1.0|\n",
      "|  0.0|                1.0|   0.8423071854228267|                      0.0|         0.06993006993006994|       0.375| 0.07319465289611865|   0.48785337997085354|0.34900731452455586| 0.4602651372576839|0.46593529710375026|0.7471753428378067|4.192872117400419E-4|             0.15384615384615385| 0.4669051878354204|          0.0|             1.0|               1.0| 0.8181818181818182|            0.0| 0.005235602094240838|            0.0|      0.05458106666844668|               0.0|       0.6666666666666666|            0|                 1.0|                      0.0|                   0.0|           0.0|              0.0|\n",
      "+-----+-------------------+---------------------+-------------------------+----------------------------+------------+--------------------+----------------------+-------------------+-------------------+-------------------+------------------+--------------------+--------------------------------+-------------------+-------------+----------------+------------------+-------------------+---------------+---------------------+---------------+-------------------------+------------------+-------------------------+-------------+--------------------+-------------------------+----------------------+--------------+-----------------+\n",
      "only showing top 5 rows\n",
      "\n"
     ]
    },
    {
     "name": "stderr",
     "output_type": "stream",
     "text": [
      "24/12/05 10:23:55 WARN SparkStringUtils: Truncated the string representation of a plan since it was too large. This behavior can be adjusted by setting 'spark.sql.debug.maxToStringFields'.\n"
     ]
    }
   ],
   "source": [
    "df_transformed.show(5)"
   ]
  },
  {
   "cell_type": "code",
   "execution_count": null,
   "id": "ac994b35",
   "metadata": {},
   "outputs": [
    {
     "name": "stderr",
     "output_type": "stream",
     "text": [
      "                                                                                \r"
     ]
    },
    {
     "name": "stdout",
     "output_type": "stream",
     "text": [
      "+-----+------+\n",
      "|label| count|\n",
      "+-----+------+\n",
      "|  0.0|791463|\n",
      "|  1.0|  8827|\n",
      "+-----+------+\n",
      "\n"
     ]
    },
    {
     "name": "stderr",
     "output_type": "stream",
     "text": [
      "24/12/05 10:24:01 WARN GarbageCollectionMetrics: To enable non-built-in garbage collector(s) List(G1 Concurrent GC), users should configure it(them) to spark.eventLog.gcMetrics.youngGenerationGarbageCollectors or spark.eventLog.gcMetrics.oldGenerationGarbageCollectors\n",
      "[Stage 6:=======>                                                   (1 + 7) / 8]\r"
     ]
    },
    {
     "name": "stdout",
     "output_type": "stream",
     "text": [
      "+-----+------+\n",
      "|label| count|\n",
      "+-----+------+\n",
      "|  0.0|197508|\n",
      "|  1.0|  2202|\n",
      "+-----+------+\n",
      "\n"
     ]
    },
    {
     "name": "stderr",
     "output_type": "stream",
     "text": [
      "                                                                                \r"
     ]
    }
   ],
   "source": [
    "# split train test\n",
    "train_data, test_data = df_transformed.randomSplit([0.8, 0.2], seed=42)\n",
    "train_data.groupBy('label').count().show()\n",
    "test_data.groupBy('label').count().show()"
   ]
  },
  {
   "cell_type": "code",
   "execution_count": 7,
   "id": "69bef335",
   "metadata": {},
   "outputs": [
    {
     "name": "stderr",
     "output_type": "stream",
     "text": [
      "[Stage 9:>                                                          (0 + 1) / 1]\r"
     ]
    },
    {
     "name": "stdout",
     "output_type": "stream",
     "text": [
      "+-----+------+---------------------+-------------------------+----------------------------+------------+--------------------+----------------------+-------------------+-------------------+------------------+------------------+--------------------+--------------------------------+-------------------+-------------+----------------+------------------+------------------+---------------+---------------------+---------------+-------------------------+------------------+-------------------------+-------------+--------------------+-------------------------+----------------------+--------------+-----------------+\n",
      "|label|income|name_email_similarity|prev_address_months_count|current_address_months_count|customer_age|  days_since_request|intended_balcon_amount|       zip_count_4w|        velocity_6h|      velocity_24h|       velocity_4w|bank_branch_count_8w|date_of_birth_distinct_emails_4w|  credit_risk_score|email_is_free|phone_home_valid|phone_mobile_valid| bank_months_count|has_other_cards|proposed_credit_limit|foreign_request|session_length_in_minutes|keep_alive_session|device_distinct_emails_8w|month_encoded|payment_type_encoded|employment_status_encoded|housing_status_encoded|source_encoded|device_os_encoded|\n",
      "+-----+------+---------------------+-------------------------+----------------------------+------------+--------------------+----------------------+-------------------+-------------------+------------------+------------------+--------------------+--------------------------------+-------------------+-------------+----------------+------------------+------------------+---------------+---------------------+---------------+-------------------------+------------------+-------------------------+-------------+--------------------+-------------------------+----------------------+--------------+-----------------+\n",
      "|  0.0|   0.0| 8.784916654809279E-5|                      0.0|         0.11421911421911422|        0.25|1.599882306194868...|   0.10843076163569482| 0.7268248992386923|0.24638170517320196|0.6479814521574618|0.7312475546057922|0.002935010482180293|              0.3076923076923077|0.34525939177101966|          1.0|             1.0|               1.0|0.8484848484848485|            0.0| 0.005235602094240838|            0.0|      0.05200279937651716|               1.0|       0.6666666666666666|            0|                 1.0|                      0.0|                   1.0|           0.0|              1.0|\n",
      "|  0.0|   0.0| 1.006200711859889E-4|                      0.0|         0.43356643356643354|       0.375|1.239693658942937...|   0.11256293721022169|  0.554411106135244| 0.5034260888408745|0.7505610527628545|0.8513454034347752|0.010482180293501047|              0.1282051282051282| 0.4329159212880143|          0.0|             1.0|               1.0|0.6363636363636364|            0.0| 0.005235602094240838|            0.0|      0.34143485747547575|               1.0|       0.6666666666666666|            0|                 3.0|                      0.0|                   2.0|           0.0|              2.0|\n",
      "|  0.0|   0.0| 1.954721992571727...|                      0.0|          0.2540792540792541|         0.5|1.309705631378157...|   0.11184080706941321| 0.5824749962680996| 0.6412777084010279|0.5318204890742623|0.9252572557399115|4.192872117400419E-4|              0.1794871794871795| 0.5241502683363148|          0.0|             1.0|               1.0|               0.0|            0.0| 0.005235602094240838|            0.0|      0.10587513907765456|               0.0|       0.6666666666666666|            0|                 2.0|                      0.0|                   1.0|           0.0|              2.0|\n",
      "|  0.0|   0.0| 3.550949356012799E-4|                      0.0|          0.4592074592074592|       0.375|1.459435427216062...|   0.09751520957934691|0.19107329452157037| 0.4524721961944005|0.7671453607984942| 0.896650218420253|8.385744234800838E-4|             0.48717948717948717|0.36493738819320215|          1.0|             1.0|               1.0|0.8787878787878788|            0.0|   0.6858638743455499|            0.0|      0.07727724808374324|               1.0|       0.6666666666666666|            0|                 1.0|                      0.0|                   0.0|           0.0|              1.0|\n",
      "|  0.0|   0.0| 4.178976573997661...|                      0.0|          0.0979020979020979|        0.25|2.201987274472110...|   0.10920855931242188|   0.51559934318555| 0.8569523562478499| 0.544193650339442|0.7308084281523362|0.018029350104821804|              0.1794871794871795| 0.5974955277280859|          1.0|             1.0|               0.0|0.9393939393939394|            0.0|   0.6858638743455499|            0.0|       0.3422679905873806|               1.0|       0.6666666666666666|            0|                 0.0|                      0.0|                   0.0|           0.0|              1.0|\n",
      "+-----+------+---------------------+-------------------------+----------------------------+------------+--------------------+----------------------+-------------------+-------------------+------------------+------------------+--------------------+--------------------------------+-------------------+-------------+----------------+------------------+------------------+---------------+---------------------+---------------+-------------------------+------------------+-------------------------+-------------+--------------------+-------------------------+----------------------+--------------+-----------------+\n",
      "only showing top 5 rows\n",
      "\n"
     ]
    },
    {
     "name": "stderr",
     "output_type": "stream",
     "text": [
      "                                                                                \r"
     ]
    }
   ],
   "source": [
    "train_data.show(5)"
   ]
  },
  {
   "cell_type": "markdown",
   "id": "39a91932",
   "metadata": {},
   "source": [
    "# 3) Sampling"
   ]
  },
  {
   "cell_type": "markdown",
   "id": "6da16b61",
   "metadata": {},
   "source": [
    "## No technique"
   ]
  },
  {
   "cell_type": "code",
   "execution_count": 8,
   "id": "2d3a3d85",
   "metadata": {},
   "outputs": [],
   "source": [
    "train_data_sampled = train_data\n",
    "test_data_sampled = test_data"
   ]
  },
  {
   "cell_type": "markdown",
   "id": "7c57c27b3408c5f1",
   "metadata": {
    "collapsed": false
   },
   "source": [
    "## Random Undersampling"
   ]
  },
  {
   "cell_type": "code",
   "execution_count": 8,
   "id": "bf36664b472ed61c",
   "metadata": {
    "ExecuteTime": {
     "end_time": "2024-12-03T14:20:14.207095Z",
     "start_time": "2024-12-03T14:20:05.881517Z"
    },
    "collapsed": false
   },
   "outputs": [
    {
     "name": "stderr",
     "output_type": "stream",
     "text": [
      "[Stage 16:============================>                            (8 + 8) / 16]\r"
     ]
    },
    {
     "name": "stdout",
     "output_type": "stream",
     "text": [
      "+-----+-----+\n",
      "|label|count|\n",
      "+-----+-----+\n",
      "|  0.0| 8888|\n",
      "|  1.0| 8827|\n",
      "+-----+-----+\n",
      "\n"
     ]
    },
    {
     "name": "stderr",
     "output_type": "stream",
     "text": [
      "                                                                                \r"
     ]
    }
   ],
   "source": [
    "# Under-sampling the majority class\n",
    "majority_class = train_data.filter(train_data['label'] == 0)\n",
    "minority_class = train_data.filter(train_data['label'] == 1)\n",
    "\n",
    "# Setting the seed for reproducibility\n",
    "seed = 42\n",
    "# Downsample the majority class\n",
    "majority_downsampled = majority_class.sample(False, minority_class.count() / majority_class.count(), seed)\n",
    "\n",
    "# Combine the downsampled majority class with the minority class\n",
    "train_data_sampled = majority_downsampled.union(minority_class)\n",
    "\n",
    "# Show the number of fraud and non-fraud transactions\n",
    "train_data_sampled.groupBy('label').count().show()"
   ]
  },
  {
   "cell_type": "markdown",
   "id": "bc7a835c",
   "metadata": {},
   "source": [
    "## Random Oversampling"
   ]
  },
  {
   "cell_type": "code",
   "execution_count": 8,
   "id": "71a8db1a",
   "metadata": {},
   "outputs": [
    {
     "name": "stderr",
     "output_type": "stream",
     "text": [
      "                                                                                \r"
     ]
    },
    {
     "name": "stdout",
     "output_type": "stream",
     "text": [
      "Ratio: 89.66387221026396\n"
     ]
    },
    {
     "name": "stderr",
     "output_type": "stream",
     "text": [
      "[Stage 16:=================================================>      (14 + 2) / 16]\r"
     ]
    },
    {
     "name": "stdout",
     "output_type": "stream",
     "text": [
      "+-----+------+\n",
      "|label| count|\n",
      "+-----+------+\n",
      "|  0.0|791463|\n",
      "|  1.0|791109|\n",
      "+-----+------+\n",
      "\n"
     ]
    },
    {
     "name": "stderr",
     "output_type": "stream",
     "text": [
      "                                                                                \r"
     ]
    }
   ],
   "source": [
    "# Separate the majority and minority classes\n",
    "majority_class = train_data.filter(train_data['label'] == 0)\n",
    "minority_class = train_data.filter(train_data['label'] == 1)\n",
    "\n",
    "# Calculate the ratio to oversample the minority class\n",
    "ratio = majority_class.count() / minority_class.count()\n",
    "\n",
    "print(f\"Ratio: {ratio}\")    \n",
    "\n",
    "# Oversample the minority class\n",
    "minority_oversampled = minority_class.sample(withReplacement=True, fraction=ratio, seed=42)\n",
    "\n",
    "# Combine the oversampled minority class with the majority class\n",
    "train_data_sampled = majority_class.union(minority_oversampled)\n",
    "\n",
    "# Show the number of fraud and non-fraud transactions\n",
    "train_data_sampled.groupBy('label').count().show()"
   ]
  },
  {
   "cell_type": "markdown",
   "id": "310689a836153b3",
   "metadata": {
    "collapsed": false
   },
   "source": [
    "## Weights \"sampling\""
   ]
  },
  {
   "cell_type": "code",
   "execution_count": 12,
   "id": "a99c14f8b6fa553d",
   "metadata": {
    "ExecuteTime": {
     "end_time": "2024-12-03T14:18:21.762407Z",
     "start_time": "2024-12-03T14:18:18.243725Z"
    },
    "collapsed": false
   },
   "outputs": [
    {
     "name": "stderr",
     "output_type": "stream",
     "text": [
      "[Stage 29:=======>                                                  (1 + 7) / 8]\r"
     ]
    },
    {
     "name": "stdout",
     "output_type": "stream",
     "text": [
      "Positive weight: 45.33193610513198\n",
      "Negative weight: 0.5055763819660553\n"
     ]
    },
    {
     "name": "stderr",
     "output_type": "stream",
     "text": [
      "                                                                                \r"
     ]
    }
   ],
   "source": [
    "total_count = train_data.count()\n",
    "pos_count = train_data.filter(col(\"label\") == 1).count()\n",
    "neg_count = total_count - pos_count\n",
    "\n",
    "# Compute class weights\n",
    "pos_weight = total_count / (2.0 * pos_count)\n",
    "neg_weight = total_count / (2.0 * neg_count)\n",
    "\n",
    "print(f\"Positive weight: {pos_weight}\")\n",
    "print(f\"Negative weight: {neg_weight}\")\n",
    "\n",
    "# Add the weight column to the dataset\n",
    "train_data_sampled = train_data.withColumn(\n",
    "    \"weight\", when(col(\"label\") == 1, pos_weight).otherwise(neg_weight)\n",
    ")\n"
   ]
  },
  {
   "cell_type": "markdown",
   "id": "1c617ce4",
   "metadata": {},
   "source": [
    "# 4) Prepare data (trasform to features+label)"
   ]
  },
  {
   "cell_type": "code",
   "execution_count": 9,
   "id": "92441d3f",
   "metadata": {},
   "outputs": [
    {
     "name": "stderr",
     "output_type": "stream",
     "text": [
      "[Stage 19:>                                                         (0 + 1) / 1]\r"
     ]
    },
    {
     "name": "stdout",
     "output_type": "stream",
     "text": [
      "+-----+------+---------------------+-------------------------+----------------------------+------------+--------------------+----------------------+-------------------+-------------------+------------------+------------------+--------------------+--------------------------------+-------------------+-------------+----------------+------------------+-------------------+---------------+---------------------+---------------+-------------------------+------------------+-------------------------+-------------+--------------------+-------------------------+----------------------+--------------+-----------------+\n",
      "|label|income|name_email_similarity|prev_address_months_count|current_address_months_count|customer_age|  days_since_request|intended_balcon_amount|       zip_count_4w|        velocity_6h|      velocity_24h|       velocity_4w|bank_branch_count_8w|date_of_birth_distinct_emails_4w|  credit_risk_score|email_is_free|phone_home_valid|phone_mobile_valid|  bank_months_count|has_other_cards|proposed_credit_limit|foreign_request|session_length_in_minutes|keep_alive_session|device_distinct_emails_8w|month_encoded|payment_type_encoded|employment_status_encoded|housing_status_encoded|source_encoded|device_os_encoded|\n",
      "+-----+------+---------------------+-------------------------+----------------------------+------------+--------------------+----------------------+-------------------+-------------------+------------------+------------------+--------------------+--------------------------------+-------------------+-------------+----------------+------------------+-------------------+---------------+---------------------+---------------+-------------------------+------------------+-------------------------+-------------+--------------------+-------------------------+----------------------+--------------+-----------------+\n",
      "|  0.0|   0.0|  0.03329058280836017|                 0.078125|         0.05827505827505827|        0.25|2.616543819212169E-4|   0.10882935089305913|0.34094640991192715| 0.4182483577351639|0.7628295808506264|0.9118265639359848|0.053249475890985325|              0.4358974358974359|0.44543828264758495|          0.0|             0.0|               1.0| 0.9393939393939394|            0.0| 0.005235602094240838|            0.0|     0.053084767603922035|               1.0|       0.6666666666666666|            0|                 0.0|                      0.0|                   0.0|           0.0|              1.0|\n",
      "|  0.0|   0.0|  0.03707265703789669|                      0.0|         0.06293706293706294|        0.25|4.557865268970579E-4|    0.1096789840292415| 0.4599193909538737|0.35295643199165794|0.5235603061691173|0.7446149312493814|0.005450733752620545|              0.5384615384615384|0.47227191413237923|          1.0|             0.0|               1.0|0.06060606060606061|            0.0| 0.005235602094240838|            0.0|      0.17538190577327126|               1.0|       0.6666666666666666|            0|                 3.0|                      0.0|                   0.0|           0.0|              1.0|\n",
      "|  0.0|   0.0|  0.04368639300008223|                      0.0|         0.13053613053613053|        0.75|9.300996126494555E-5|    0.3701165064710916| 0.1444991789819376| 0.4804036954442778|0.6915989871845257|0.9273585041039228|0.003773584905660...|             0.07692307692307693|0.41144901610017887|          0.0|             0.0|               1.0|0.06060606060606061|            0.0| 0.005235602094240838|            0.0|      0.09211030932032233|               0.0|                      1.0|            0|                 1.0|                      0.0|                   1.0|           0.0|              2.0|\n",
      "|  0.0|   0.0|  0.06122031883748108|      0.25260416666666663|         0.09557109557109557|       0.375|3.365921696777814E-5|   0.10657164967440999| 0.2663084042394387| 0.5480601691722101|0.7115715567701593|0.9640651304929623|4.192872117400419E-4|             0.10256410256410256| 0.3667262969588551|          1.0|             0.0|               1.0| 0.6363636363636364|            0.0| 0.005235602094240838|            0.0|      0.22135584670754838|               0.0|       0.6666666666666666|            0|                 0.0|                      0.0|                   1.0|           0.0|              1.0|\n",
      "|  0.0|   0.0|  0.08329597332630398|                      0.0|          0.8205128205128205|       0.125|1.626285207059609...|   0.14445371232344342| 0.5250037319002836| 0.4031535592216166|0.4946879657244589|0.9135860992110744|0.001677148846960...|             0.48717948717948717| 0.4150268336314848|          1.0|             1.0|               1.0| 0.7878787878787878|            0.0| 0.005235602094240838|            0.0|      0.23869012757797106|               1.0|       0.6666666666666666|            0|                 1.0|                      1.0|                   3.0|           0.0|              1.0|\n",
      "+-----+------+---------------------+-------------------------+----------------------------+------------+--------------------+----------------------+-------------------+-------------------+------------------+------------------+--------------------+--------------------------------+-------------------+-------------+----------------+------------------+-------------------+---------------+---------------------+---------------+-------------------------+------------------+-------------------------+-------------+--------------------+-------------------------+----------------------+--------------+-----------------+\n",
      "only showing top 5 rows\n",
      "\n"
     ]
    },
    {
     "name": "stderr",
     "output_type": "stream",
     "text": [
      "                                                                                \r"
     ]
    }
   ],
   "source": [
    "train_data_sampled.show(5)"
   ]
  },
  {
   "cell_type": "code",
   "execution_count": 10,
   "id": "bc277b11",
   "metadata": {},
   "outputs": [
    {
     "name": "stderr",
     "output_type": "stream",
     "text": [
      "[Stage 20:>                                                         (0 + 1) / 1]\r"
     ]
    },
    {
     "name": "stdout",
     "output_type": "stream",
     "text": [
      "+-----+------+---------------------+-------------------------+----------------------------+------------+--------------------+----------------------+-------------------+------------------+------------------+------------------+--------------------+--------------------------------+-------------------+-------------+----------------+------------------+-------------------+---------------+---------------------+---------------+-------------------------+------------------+-------------------------+-------------+--------------------+-------------------------+----------------------+--------------+-----------------+\n",
      "|label|income|name_email_similarity|prev_address_months_count|current_address_months_count|customer_age|  days_since_request|intended_balcon_amount|       zip_count_4w|       velocity_6h|      velocity_24h|       velocity_4w|bank_branch_count_8w|date_of_birth_distinct_emails_4w|  credit_risk_score|email_is_free|phone_home_valid|phone_mobile_valid|  bank_months_count|has_other_cards|proposed_credit_limit|foreign_request|session_length_in_minutes|keep_alive_session|device_distinct_emails_8w|month_encoded|payment_type_encoded|employment_status_encoded|housing_status_encoded|source_encoded|device_os_encoded|\n",
      "+-----+------+---------------------+-------------------------+----------------------------+------------+--------------------+----------------------+-------------------+------------------+------------------+------------------+--------------------+--------------------------------+-------------------+-------------+----------------+------------------+-------------------+---------------+---------------------+---------------+-------------------------+------------------+-------------------------+-------------+--------------------+-------------------------+----------------------+--------------+-----------------+\n",
      "|  0.0|   0.0| 1.337144930349302...|                      0.0|         0.34032634032634035|       0.375| 9.84056346555325E-5|   0.17850078904113056| 0.6560680698611733|0.5473335861863591|0.5142947509939987| 0.956663286162208|  0.0129979035639413|               0.358974358974359| 0.3935599284436494|          0.0|             1.0|               1.0| 0.8484848484848485|            0.0| 0.005235602094240838|            0.0|      0.04116912132564782|               0.0|       0.6666666666666666|            0|                 1.0|                      4.0|                   3.0|           1.0|              0.0|\n",
      "|  0.0|   0.0| 4.238488175312246...|                      0.0|          0.1048951048951049|         0.5|1.322664419435104...|    0.3089079628137119|0.20540379161068814|0.4539429151663496|0.5335641620416675|0.9000463038132235| 0.11362683438155136|              0.1794871794871795|0.43649373881932024|          1.0|             1.0|               1.0|0.06060606060606061|            1.0| 0.005235602094240838|            0.0|     0.048843342829032244|               0.0|       0.6666666666666666|            0|                 1.0|                      4.0|                   1.0|           0.0|              0.0|\n",
      "+-----+------+---------------------+-------------------------+----------------------------+------------+--------------------+----------------------+-------------------+------------------+------------------+------------------+--------------------+--------------------------------+-------------------+-------------+----------------+------------------+-------------------+---------------+---------------------+---------------+-------------------------+------------------+-------------------------+-------------+--------------------+-------------------------+----------------------+--------------+-----------------+\n",
      "only showing top 2 rows\n",
      "\n"
     ]
    },
    {
     "name": "stderr",
     "output_type": "stream",
     "text": [
      "                                                                                \r"
     ]
    }
   ],
   "source": [
    "test_data.show(2)"
   ]
  },
  {
   "cell_type": "code",
   "execution_count": 11,
   "id": "2ee1d8c0",
   "metadata": {},
   "outputs": [
    {
     "name": "stdout",
     "output_type": "stream",
     "text": [
      "['income', 'name_email_similarity', 'prev_address_months_count', 'current_address_months_count', 'customer_age', 'days_since_request', 'intended_balcon_amount', 'zip_count_4w', 'velocity_6h', 'velocity_24h', 'velocity_4w', 'bank_branch_count_8w', 'date_of_birth_distinct_emails_4w', 'credit_risk_score', 'email_is_free', 'phone_home_valid', 'phone_mobile_valid', 'bank_months_count', 'has_other_cards', 'proposed_credit_limit', 'foreign_request', 'session_length_in_minutes', 'keep_alive_session', 'device_distinct_emails_8w', 'month_encoded', 'payment_type_encoded', 'employment_status_encoded', 'housing_status_encoded', 'source_encoded', 'device_os_encoded']\n",
      "['income', 'name_email_similarity', 'prev_address_months_count', 'current_address_months_count', 'customer_age', 'days_since_request', 'intended_balcon_amount', 'zip_count_4w', 'velocity_6h', 'velocity_24h', 'velocity_4w', 'bank_branch_count_8w', 'date_of_birth_distinct_emails_4w', 'credit_risk_score', 'email_is_free', 'phone_home_valid', 'phone_mobile_valid', 'bank_months_count', 'has_other_cards', 'proposed_credit_limit', 'foreign_request', 'session_length_in_minutes', 'keep_alive_session', 'device_distinct_emails_8w', 'month_encoded', 'payment_type_encoded', 'employment_status_encoded', 'housing_status_encoded', 'source_encoded', 'device_os_encoded']\n"
     ]
    },
    {
     "name": "stderr",
     "output_type": "stream",
     "text": [
      "                                                                                \r"
     ]
    },
    {
     "name": "stdout",
     "output_type": "stream",
     "text": [
      "+-----+-----+\n",
      "|label|count|\n",
      "+-----+-----+\n",
      "|  0.0| 8888|\n",
      "|  1.0| 8827|\n",
      "+-----+-----+\n",
      "\n"
     ]
    }
   ],
   "source": [
    "from pyspark.ml.feature import VectorAssembler\n",
    "\n",
    "# Define all feature columns (exclude \"label\")\n",
    "feature_columns = [col for col in train_data_sampled.columns if col not in [\"label\", \"weight\"]]\n",
    "print(feature_columns)\n",
    "\n",
    "# Combine features into a single vector column\n",
    "vector_assembler = VectorAssembler(inputCols=feature_columns, outputCol=\"features\")\n",
    "\n",
    "# Apply the transformation to both train and test data\n",
    "train_data_prepared = vector_assembler.transform(train_data_sampled).select(\"features\", \"label\")\n",
    "\n",
    "# Define all feature columns (exclude \"label\")\n",
    "feature_columns = [col for col in test_data.columns if col != \"label\"]\n",
    "print(feature_columns)\n",
    "\n",
    "# Combine features into a single vector column\n",
    "vector_assembler = VectorAssembler(inputCols=feature_columns, outputCol=\"features\")\n",
    "test_data_prepared = vector_assembler.transform(test_data).select(\"features\", \"label\")\n",
    "\n",
    "# show the distribution of label in train_data_prepared\n",
    "train_data_prepared.groupBy('label').count().show()"
   ]
  },
  {
   "cell_type": "code",
   "execution_count": 12,
   "id": "c472a5e4",
   "metadata": {},
   "outputs": [
    {
     "name": "stderr",
     "output_type": "stream",
     "text": [
      "                                                                                \r"
     ]
    },
    {
     "name": "stdout",
     "output_type": "stream",
     "text": [
      "+---------------------------------------------------------------------------------------------------------------------------------------------------------------------------------------------------------------------------------------------------------------------------------------------------------------------------------------------------------------------------------------+\n",
      "|features                                                                                                                                                                                                                                                                                                                                                                               |\n",
      "+---------------------------------------------------------------------------------------------------------------------------------------------------------------------------------------------------------------------------------------------------------------------------------------------------------------------------------------------------------------------------------------+\n",
      "|[0.0,0.03329058280836017,0.078125,0.05827505827505827,0.25,2.616543819212169E-4,0.10882935089305913,0.34094640991192715,0.4182483577351639,0.7628295808506264,0.9118265639359848,0.053249475890985325,0.4358974358974359,0.44543828264758495,0.0,0.0,1.0,0.9393939393939394,0.0,0.005235602094240838,0.0,0.053084767603922035,1.0,0.6666666666666666,0.0,0.0,0.0,0.0,0.0,1.0]          |\n",
      "|[0.0,0.03707265703789669,0.0,0.06293706293706294,0.25,4.557865268970579E-4,0.1096789840292415,0.4599193909538737,0.35295643199165794,0.5235603061691173,0.7446149312493814,0.005450733752620545,0.5384615384615384,0.47227191413237923,1.0,0.0,1.0,0.06060606060606061,0.0,0.005235602094240838,0.0,0.17538190577327126,1.0,0.6666666666666666,0.0,3.0,0.0,0.0,0.0,1.0]                |\n",
      "|[0.0,0.04368639300008223,0.0,0.13053613053613053,0.75,9.300996126494555E-5,0.3701165064710916,0.1444991789819376,0.4804036954442778,0.6915989871845257,0.9273585041039228,0.0037735849056603774,0.07692307692307693,0.41144901610017887,0.0,0.0,1.0,0.06060606060606061,0.0,0.005235602094240838,0.0,0.09211030932032233,0.0,1.0,0.0,1.0,0.0,1.0,0.0,2.0]                              |\n",
      "|[0.0,0.06122031883748108,0.25260416666666663,0.09557109557109557,0.375,3.365921696777814E-5,0.10657164967440999,0.2663084042394387,0.5480601691722101,0.7115715567701593,0.9640651304929623,4.192872117400419E-4,0.10256410256410256,0.3667262969588551,1.0,0.0,1.0,0.6363636363636364,0.0,0.005235602094240838,0.0,0.22135584670754838,0.0,0.6666666666666666,0.0,0.0,0.0,1.0,0.0,1.0]|\n",
      "|[0.0,0.08329597332630398,0.0,0.8205128205128205,0.125,1.6262852070596094E-4,0.14445371232344342,0.5250037319002836,0.4031535592216166,0.4946879657244589,0.9135860992110744,0.0016771488469601676,0.48717948717948717,0.4150268336314848,1.0,1.0,1.0,0.7878787878787878,0.0,0.005235602094240838,0.0,0.23869012757797106,1.0,0.6666666666666666,0.0,1.0,1.0,3.0,0.0,1.0]               |\n",
      "+---------------------------------------------------------------------------------------------------------------------------------------------------------------------------------------------------------------------------------------------------------------------------------------------------------------------------------------------------------------------------------------+\n",
      "only showing top 5 rows\n",
      "\n"
     ]
    },
    {
     "name": "stderr",
     "output_type": "stream",
     "text": [
      "[Stage 25:>                                                         (0 + 1) / 1]\r"
     ]
    },
    {
     "name": "stdout",
     "output_type": "stream",
     "text": [
      "+--------------------+-----+\n",
      "|            features|label|\n",
      "+--------------------+-----+\n",
      "|[0.0,0.0332905828...|  0.0|\n",
      "|[0.0,0.0370726570...|  0.0|\n",
      "+--------------------+-----+\n",
      "only showing top 2 rows\n",
      "\n"
     ]
    },
    {
     "name": "stderr",
     "output_type": "stream",
     "text": [
      "                                                                                \r"
     ]
    }
   ],
   "source": [
    "train_data_prepared.select('features').show(5, truncate=False)\n",
    "train_data_prepared.show(2)"
   ]
  },
  {
   "cell_type": "code",
   "execution_count": 13,
   "id": "9bfd7be2",
   "metadata": {},
   "outputs": [
    {
     "name": "stderr",
     "output_type": "stream",
     "text": [
      "                                                                                \r"
     ]
    },
    {
     "name": "stdout",
     "output_type": "stream",
     "text": [
      "+-------------------------------------------------------------------------------------------------------------------------------------------------------------------------------------------------------------------------------------------------------------------------------------------------------------------------------------------------------------------------+\n",
      "|features                                                                                                                                                                                                                                                                                                                                                                 |\n",
      "+-------------------------------------------------------------------------------------------------------------------------------------------------------------------------------------------------------------------------------------------------------------------------------------------------------------------------------------------------------------------------+\n",
      "|[0.0,1.3371449303493027E-4,0.0,0.34032634032634035,0.375,9.84056346555325E-5,0.17850078904113056,0.6560680698611733,0.5473335861863591,0.5142947509939987,0.956663286162208,0.0129979035639413,0.358974358974359,0.3935599284436494,0.0,1.0,1.0,0.8484848484848485,0.0,0.005235602094240838,0.0,0.04116912132564782,0.0,0.6666666666666666,0.0,1.0,4.0,3.0,1.0,0.0]      |\n",
      "|[0.0,4.2384881753122463E-4,0.0,0.1048951048951049,0.5,1.3226644194351043E-4,0.3089079628137119,0.20540379161068814,0.4539429151663496,0.5335641620416675,0.9000463038132235,0.11362683438155136,0.1794871794871795,0.43649373881932024,1.0,1.0,1.0,0.06060606060606061,1.0,0.005235602094240838,0.0,0.048843342829032244,0.0,0.6666666666666666,0.0,1.0,4.0,1.0,0.0,0.0] |\n",
      "|[0.0,9.53223850804108E-4,0.0,0.12354312354312354,0.125,2.8683661352843195E-4,0.10808813971998149,0.3782654127481713,0.5815543793475201,0.5112905609419851,0.7435205623758595,0.05953878406708595,0.5128205128205128,0.3881932021466905,1.0,1.0,1.0,0.06060606060606061,0.0,0.005235602094240838,0.0,0.055074994976162285,0.0,0.6666666666666666,0.0,0.0,2.0,1.0,0.0,0.0] |\n",
      "|[0.0,0.0018702182330309707,0.0,0.3123543123543124,0.625,1.838164919468355E-4,0.11248200745458185,0.5024630541871921,0.7175311212153229,0.7528563396271022,0.8449729180885747,0.005870020964360586,0.05128205128205128,0.34347048300536676,0.0,1.0,1.0,0.18181818181818182,1.0,0.005235602094240838,0.0,0.2716594181824607,0.0,0.6666666666666666,0.0,0.0,0.0,1.0,0.0,1.0]|\n",
      "|[0.0,0.0024724864956456906,0.0,0.0979020979020979,0.5,1.5827919204585897E-4,0.10954270346336083,0.16241230034333481,0.09298983656652883,0.5609451637763494,0.9324074000228799,0.2628930817610063,0.05128205128205128,0.45796064400715564,0.0,1.0,1.0,0.8787878787878788,0.0,0.005235602094240838,0.0,0.3267790344379344,0.0,0.6666666666666666,0.0,0.0,2.0,1.0,0.0,1.0]  |\n",
      "+-------------------------------------------------------------------------------------------------------------------------------------------------------------------------------------------------------------------------------------------------------------------------------------------------------------------------------------------------------------------------+\n",
      "only showing top 5 rows\n",
      "\n"
     ]
    },
    {
     "name": "stderr",
     "output_type": "stream",
     "text": [
      "[Stage 27:>                                                         (0 + 1) / 1]\r"
     ]
    },
    {
     "name": "stdout",
     "output_type": "stream",
     "text": [
      "+--------------------+-----+\n",
      "|            features|label|\n",
      "+--------------------+-----+\n",
      "|[0.0,1.3371449303...|  0.0|\n",
      "|[0.0,4.2384881753...|  0.0|\n",
      "+--------------------+-----+\n",
      "only showing top 2 rows\n",
      "\n"
     ]
    },
    {
     "name": "stderr",
     "output_type": "stream",
     "text": [
      "                                                                                \r"
     ]
    }
   ],
   "source": [
    "test_data_prepared.select('features').show(5, truncate=False)\n",
    "test_data_prepared.show(2)"
   ]
  },
  {
   "cell_type": "markdown",
   "id": "9bf0fff6",
   "metadata": {},
   "source": [
    "# Dummy model"
   ]
  },
  {
   "cell_type": "markdown",
   "id": "665d1ed3",
   "metadata": {},
   "source": [
    "(always predict majority class)"
   ]
  },
  {
   "cell_type": "code",
   "execution_count": 43,
   "id": "78c0bc82",
   "metadata": {},
   "outputs": [
    {
     "name": "stderr",
     "output_type": "stream",
     "text": [
      "                                                                                \r"
     ]
    },
    {
     "name": "stdout",
     "output_type": "stream",
     "text": [
      "Majority class: 0.0\n"
     ]
    },
    {
     "name": "stderr",
     "output_type": "stream",
     "text": [
      "[Stage 235:>                                                        (0 + 1) / 1]\r"
     ]
    },
    {
     "name": "stdout",
     "output_type": "stream",
     "text": [
      "+--------------------+-----+----------+-------------+\n",
      "|            features|label|prediction|rawPrediction|\n",
      "+--------------------+-----+----------+-------------+\n",
      "|[0.0,1.3371449303...|  0.0|       0.0|          1.0|\n",
      "|[0.0,4.2384881753...|  0.0|       0.0|          1.0|\n",
      "|[0.0,9.5322385080...|  0.0|       0.0|          1.0|\n",
      "|[0.0,0.0018702182...|  0.0|       0.0|          1.0|\n",
      "|[0.0,0.0024724864...|  0.0|       0.0|          1.0|\n",
      "+--------------------+-----+----------+-------------+\n",
      "only showing top 5 rows\n",
      "\n"
     ]
    },
    {
     "name": "stderr",
     "output_type": "stream",
     "text": [
      "                                                                                \r"
     ]
    }
   ],
   "source": [
    "from pyspark.sql import functions as F\n",
    "\n",
    "# calculate majority class\n",
    "majority_class = train_data_prepared.groupBy('label').count().orderBy('count', ascending=False).first()[0]\n",
    "print(f\"Majority class: {majority_class}\")\n",
    "\n",
    "# add column prediction with majority class\n",
    "predictions = test_data_prepared.withColumn(\"prediction\", F.lit(majority_class))\n",
    "\n",
    "# add column rawPrediction with Double value 1.0\n",
    "predictions = predictions.withColumn(\"rawPrediction\", F.lit(1.0))\n",
    "\n",
    "predictions.show(5)"
   ]
  },
  {
   "cell_type": "markdown",
   "id": "0eb73d38",
   "metadata": {},
   "source": [
    "# RandomForest"
   ]
  },
  {
   "cell_type": "markdown",
   "id": "55aa8926",
   "metadata": {},
   "source": [
    "## Grid Search"
   ]
  },
  {
   "cell_type": "code",
   "execution_count": null,
   "id": "17774596",
   "metadata": {},
   "outputs": [],
   "source": [
    "# from pyspark.ml.tuning import ParamGridBuilder, CrossValidator\n",
    "# from pyspark.ml.evaluation import BinaryClassificationEvaluator\n",
    "\n",
    "# from pyspark.ml.classification import RandomForestClassifier\n",
    "# rf = RandomForestClassifier(featuresCol=\"features\", labelCol=\"label\")\n",
    "\n",
    "\n",
    "# paramGrid = ParamGridBuilder() \\\n",
    "#     .addGrid(rf.numTrees, [150, 200, 250]) \\\n",
    "#     .addGrid(rf.maxDepth, [10, 15]) \\\n",
    "#     .addGrid(rf.minInstancesPerNode, [2, 5]) \\\n",
    "#     .build()\n",
    "\n",
    "# cv = CrossValidator(estimator=rf, \n",
    "#                     estimatorParamMaps=paramGrid, \n",
    "#                     evaluator=BinaryClassificationEvaluator(labelCol=\"label\", metricName=\"areaUnderROC\"), \n",
    "#                     numFolds=2)\n",
    "\n",
    "# cvModel = cv.fit(train_data_sampled)"
   ]
  },
  {
   "cell_type": "code",
   "execution_count": null,
   "id": "2426f895",
   "metadata": {},
   "outputs": [
    {
     "name": "stdout",
     "output_type": "stream",
     "text": [
      "Best Parameters:\n",
      " - numTrees: 150\n",
      " - maxDepth: 10\n",
      " - minInstancesPerNode: 1\n"
     ]
    }
   ],
   "source": [
    "# # Recupera il modello migliore\n",
    "# best_model = cvModel.bestModel\n",
    "\n",
    "# # Ottieni i parametri migliori\n",
    "# num_trees = best_model.getNumTrees\n",
    "# max_depth = best_model.getMaxDepth()\n",
    "# min_instances_per_node = best_model.getMinInstancesPerNode()\n",
    "\n",
    "# # Stampa i valori\n",
    "# print(\"Best Parameters:\")\n",
    "# print(f\" - numTrees: {num_trees}\")\n",
    "# print(f\" - maxDepth: {max_depth}\")\n",
    "# print(f\" - minInstancesPerNode: {min_instances_per_node}\")"
   ]
  },
  {
   "cell_type": "markdown",
   "id": "a3911501",
   "metadata": {},
   "source": [
    "## Best params (my pc cannot go further)"
   ]
  },
  {
   "cell_type": "code",
   "execution_count": 14,
   "id": "411e43fb",
   "metadata": {},
   "outputs": [
    {
     "name": "stderr",
     "output_type": "stream",
     "text": [
      "24/12/05 10:26:00 WARN DAGScheduler: Broadcasting large task binary with size 1502.5 KiB\n",
      "24/12/05 10:26:02 WARN DAGScheduler: Broadcasting large task binary with size 2.7 MiB\n",
      "24/12/05 10:26:05 WARN DAGScheduler: Broadcasting large task binary with size 5.0 MiB\n",
      "24/12/05 10:26:07 WARN DAGScheduler: Broadcasting large task binary with size 1275.8 KiB\n",
      "24/12/05 10:26:10 WARN DAGScheduler: Broadcasting large task binary with size 8.7 MiB\n",
      "24/12/05 10:26:14 WARN DAGScheduler: Broadcasting large task binary with size 1962.8 KiB\n",
      "24/12/05 10:26:16 WARN DAGScheduler: Broadcasting large task binary with size 14.2 MiB\n",
      "24/12/05 10:26:22 WARN DAGScheduler: Broadcasting large task binary with size 2.7 MiB\n",
      "                                                                                \r"
     ]
    }
   ],
   "source": [
    "from pyspark.ml.classification import RandomForestClassifier\n",
    "from pyspark.ml.evaluation import BinaryClassificationEvaluator\n",
    "\n",
    "# Step 1: Define the Random Forest Classifier\n",
    "rf = RandomForestClassifier(featuresCol=\"features\", labelCol=\"label\", numTrees=150, maxDepth=10, \\\n",
    "    # weightCol=\"weight\"\\\n",
    "        )\n",
    "\n",
    "# Step 2: Train the Model on Train Data\n",
    "rf_model = rf.fit(train_data_prepared)\n",
    "\n",
    "# Step 3: Make Predictions on Test Data\n",
    "predictions = rf_model.transform(test_data_prepared)"
   ]
  },
  {
   "cell_type": "markdown",
   "id": "90768f47",
   "metadata": {},
   "source": [
    "# Confusion Matrix, Precision, Recall, F1, AUC"
   ]
  },
  {
   "cell_type": "code",
   "execution_count": 25,
   "id": "4e9274c2",
   "metadata": {},
   "outputs": [
    {
     "name": "stdout",
     "output_type": "stream",
     "text": [
      "<class 'pyspark.sql.dataframe.DataFrame'>\n"
     ]
    },
    {
     "name": "stderr",
     "output_type": "stream",
     "text": [
      "24/12/04 19:06:34 WARN DAGScheduler: Broadcasting large task binary with size 12.0 MiB\n",
      "[Stage 132:>                                                        (0 + 1) / 1]\r"
     ]
    },
    {
     "name": "stdout",
     "output_type": "stream",
     "text": [
      "+--------------------+-----+--------------------+--------------------+----------+\n",
      "|            features|label|       rawPrediction|         probability|prediction|\n",
      "+--------------------+-----+--------------------+--------------------+----------+\n",
      "|[0.0,1.3371449303...|  0.0|[116.436423055140...|[0.77624282036760...|       0.0|\n",
      "|[0.0,4.2384881753...|  0.0|[132.185834728776...|[0.88123889819184...|       0.0|\n",
      "|[0.0,9.5322385080...|  0.0|[105.876656665612...|[0.70584437777074...|       0.0|\n",
      "|[0.0,0.0018702182...|  0.0|[125.280535969204...|[0.83520357312802...|       0.0|\n",
      "|[0.0,0.0024724864...|  0.0|[104.052133577898...|[0.69368089051932...|       0.0|\n",
      "+--------------------+-----+--------------------+--------------------+----------+\n",
      "only showing top 5 rows\n",
      "\n"
     ]
    },
    {
     "name": "stderr",
     "output_type": "stream",
     "text": [
      "                                                                                \r"
     ]
    }
   ],
   "source": [
    "print(type(predictions))\n",
    "predictions.show(5)"
   ]
  },
  {
   "cell_type": "code",
   "execution_count": 26,
   "id": "492fe83c",
   "metadata": {},
   "outputs": [
    {
     "name": "stderr",
     "output_type": "stream",
     "text": [
      "24/12/04 19:06:42 WARN DAGScheduler: Broadcasting large task binary with size 12.0 MiB\n",
      "24/12/04 19:07:01 WARN DAGScheduler: Broadcasting large task binary with size 11.9 MiB\n",
      "24/12/04 19:07:03 WARN DAGScheduler: Broadcasting large task binary with size 12.0 MiB\n",
      "                                                                                \r"
     ]
    },
    {
     "name": "stdout",
     "output_type": "stream",
     "text": [
      "\n",
      "Metrics:\n",
      "Class 0 (False): Precision = 1.00, Recall = 0.86, F1-Score = 0.92\n",
      "Class 1 (True):  Precision = 0.05, Recall = 0.70, F1-Score = 0.10\n",
      "AUC: 0.8737\n"
     ]
    },
    {
     "data": {
      "image/png": "[encoded data removed]",
      "text/plain": [
       "<Figure size 500x400 with 2 Axes>"
      ]
     },
     "metadata": {},
     "output_type": "display_data"
    }
   ],
   "source": [
    "from pyspark.sql import functions as F\n",
    "from pyspark.ml.evaluation import BinaryClassificationEvaluator\n",
    "import matplotlib.pyplot as plt\n",
    "import numpy as np\n",
    "from matplotlib.colors import LinearSegmentedColormap\n",
    "\n",
    "# Step 1: Create a full confusion matrix\n",
    "labels = [0.0, 1.0]\n",
    "predictions_full = (\n",
    "    predictions.groupBy(\"label\", \"prediction\")\n",
    "    .count()\n",
    "    .withColumnRenamed(\"count\", \"actual_count\")\n",
    ")\n",
    "\n",
    "# Add missing combinations with a count of 0\n",
    "from pyspark.sql import Row\n",
    "all_combinations = [\n",
    "    Row(label=float(lbl), prediction=float(pred)) for lbl in labels for pred in labels\n",
    "]\n",
    "all_combinations_df = spark.createDataFrame(all_combinations)\n",
    "confusion_matrix_full = (\n",
    "    all_combinations_df.join(\n",
    "        predictions_full, [\"label\", \"prediction\"], \"left_outer\"\n",
    "    )\n",
    "    .fillna(0, subset=[\"actual_count\"])\n",
    ")\n",
    "\n",
    "# Convert to Pandas for visualization\n",
    "confusion_matrix_pd = confusion_matrix_full.toPandas()\n",
    "\n",
    "# Create confusion matrix array\n",
    "confusion_matrix_array = np.zeros((len(labels), len(labels)))\n",
    "for _, row in confusion_matrix_pd.iterrows():\n",
    "    i = labels.index(row[\"label\"])\n",
    "    j = labels.index(row[\"prediction\"])\n",
    "    confusion_matrix_array[i, j] = row[\"actual_count\"]\n",
    "\n",
    "# Step 2: Extract TP, FP, FN, TN\n",
    "tp = confusion_matrix_array[1, 1]  # True Positives\n",
    "fp = confusion_matrix_array[0, 1]  # False Positives\n",
    "fn = confusion_matrix_array[1, 0]  # False Negatives\n",
    "tn = confusion_matrix_array[0, 0]  # True Negatives\n",
    "\n",
    "# Step 3: Calculate Metrics\n",
    "precision_1 = tp / (tp + fp) if (tp + fp) > 0 else 0\n",
    "recall_1 = tp / (tp + fn) if (tp + fn) > 0 else 0\n",
    "f1_1 = 2 * precision_1 * recall_1 / (precision_1 + recall_1) if (precision_1 + recall_1) > 0 else 0\n",
    "\n",
    "precision_0 = tn / (tn + fn) if (tn + fn) > 0 else 0\n",
    "recall_0 = tn / (tn + fp) if (tn + fp) > 0 else 0\n",
    "f1_0 = 2 * precision_0 * recall_0 / (precision_0 + recall_0) if (precision_0 + recall_0) > 0 else 0\n",
    "\n",
    "# Calculate AUC\n",
    "auc_evaluator = BinaryClassificationEvaluator(labelCol=\"label\", metricName=\"areaUnderROC\")\n",
    "auc = auc_evaluator.evaluate(predictions)\n",
    "\n",
    "# Step 4: Display Metrics\n",
    "print(\"\\nMetrics:\")\n",
    "print(f\"Class 0 (False): Precision = {precision_0:.2f}, Recall = {recall_0:.2f}, F1-Score = {f1_0:.2f}\")\n",
    "print(f\"Class 1 (True):  Precision = {precision_1:.2f}, Recall = {recall_1:.2f}, F1-Score = {f1_1:.2f}\")\n",
    "print(f\"AUC: {auc:.4f}\")\n",
    "\n",
    "# Step 5: Plot Confusion Matrix with Annotations\n",
    "custom_cmap = LinearSegmentedColormap.from_list(\n",
    "    \"custom_cmap\", [\"white\", \"lightblue\", \"blue\", \"darkblue\"]\n",
    ")\n",
    "\n",
    "plt.figure(figsize=(5, 4))\n",
    "plt.imshow(confusion_matrix_array, interpolation=\"nearest\", cmap=custom_cmap)\n",
    "plt.title(\"Confusion Matrix\")\n",
    "plt.colorbar()\n",
    "\n",
    "# Label the axes\n",
    "tick_marks = np.arange(len(labels))\n",
    "plt.xticks(tick_marks, labels)\n",
    "plt.yticks(tick_marks, labels)\n",
    "\n",
    "plt.ylabel(\"True Label\")\n",
    "plt.xlabel(\"Predicted Label\")\n",
    "\n",
    "# Add counts and acronyms in each cell\n",
    "annotations = [[\"TN\", \"FP\"], [\"FN\", \"TP\"]]\n",
    "thresh = confusion_matrix_array.max() / 2.0\n",
    "for i in range(len(labels)):\n",
    "    for j in range(len(labels)):\n",
    "        count = int(confusion_matrix_array[i, j])\n",
    "        label = annotations[i][j]\n",
    "        plt.text(\n",
    "            j,\n",
    "            i,\n",
    "            f\"{label}\\n{count}\",\n",
    "            horizontalalignment=\"center\",\n",
    "            color=\"white\" if confusion_matrix_array[i, j] > thresh else \"black\",\n",
    "            fontsize=12\n",
    "        )\n",
    "\n",
    "plt.tight_layout()\n",
    "plt.show()\n"
   ]
  }
 ],
 "metadata": {
  "kernelspec": {
   "display_name": "ddam",
   "language": "python",
   "name": "python3"
  },
  "language_info": {
   "codemirror_mode": {
    "name": "ipython",
    "version": 3
   },
   "file_extension": ".py",
   "mimetype": "text/x-python",
   "name": "python",
   "nbconvert_exporter": "python",
   "pygments_lexer": "ipython3",
   "version": "3.11.10"
  }
 },
 "nbformat": 4,
 "nbformat_minor": 5
}
