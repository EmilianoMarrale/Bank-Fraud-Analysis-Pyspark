{
 "cells": [
  {
   "cell_type": "code",
   "id": "initial_id",
   "metadata": {
    "collapsed": true,
    "ExecuteTime": {
     "end_time": "2024-12-05T11:11:58.420264Z",
     "start_time": "2024-12-05T11:11:58.415049Z"
    }
   },
   "source": [
    "from pyspark.sql import SparkSession\n",
    "from pyspark.ml.classification import MultilayerPerceptronClassifier\n",
    "from pyspark.ml.evaluation import MulticlassClassificationEvaluator\n",
    "\n",
    "from pyspark.sql import functions as F\n",
    "from pyspark.ml.feature import VectorAssembler\n",
    "from pyspark.ml.tuning import CrossValidator, ParamGridBuilder\n",
    "import numpy as np\n",
    "from sklearn.metrics import classification_report\n"
   ],
   "outputs": [],
   "execution_count": 22
  },
  {
   "metadata": {},
   "cell_type": "markdown",
   "source": "# Import Preprocessed Dataset",
   "id": "af86e29e4004b748"
  },
  {
   "metadata": {
    "ExecuteTime": {
     "end_time": "2024-12-05T11:12:01.100726Z",
     "start_time": "2024-12-05T11:11:59.249106Z"
    }
   },
   "cell_type": "code",
   "source": [
    "spark = SparkSession.builder.appName('NeuralNetwork').getOrCreate()\n",
    "df = spark.read.csv('/home/emiliano/Desktop/Università/Distributed Data Analysis/preprocessedData_SI.csv', header=True, inferSchema=True)"
   ],
   "id": "de12ec4c38e4f9f4",
   "outputs": [
    {
     "name": "stderr",
     "output_type": "stream",
     "text": [
      "                                                                                \r"
     ]
    }
   ],
   "execution_count": 23
  },
  {
   "metadata": {},
   "cell_type": "markdown",
   "source": "# Undersampling and Reporting Function\n",
   "id": "463e958749f25b65"
  },
  {
   "metadata": {
    "ExecuteTime": {
     "end_time": "2024-12-05T11:12:01.112552Z",
     "start_time": "2024-12-05T11:12:01.108751Z"
    }
   },
   "cell_type": "code",
   "source": [
    "# Create undersampling function\n",
    "def undersample_majority(df, ratio=1):\n",
    "    '''\n",
    "    ratio is the ratio of majority to minority\n",
    "    Eg. ratio 1 is equivalent to majority:minority = 1:1\n",
    "    ratio 5 is equivalent to majority:minority = 5:1\n",
    "    '''\n",
    "    minority_count = df.filter(F.col('label')==1).count()\n",
    "    whole_count = df.count()\n",
    "    undersampled_majority = df.filter(F.col('label')==0) \\\n",
    "        .sample(withReplacement=False, fraction=(ratio*minority_count/whole_count),seed=88)\n",
    "    undersampled_df = df.filter(F.col('label')==1).union(undersampled_majority)\n",
    "\n",
    "    return undersampled_df"
   ],
   "id": "3e46fe9160405ee8",
   "outputs": [],
   "execution_count": 24
  },
  {
   "metadata": {
    "ExecuteTime": {
     "end_time": "2024-12-05T11:12:01.166737Z",
     "start_time": "2024-12-05T11:12:01.161670Z"
    }
   },
   "cell_type": "code",
   "source": [
    "def print_classification_report(prediction):\n",
    "    y_true = prediction.select(\"label\")\n",
    "    y_true = y_true.toPandas()\n",
    "    y_pred = prediction.select(\"prediction\")\n",
    "    y_pred = y_pred.toPandas()\n",
    "    print(classification_report(y_true, y_pred))"
   ],
   "id": "ac20c30e9040499e",
   "outputs": [],
   "execution_count": 25
  },
  {
   "metadata": {},
   "cell_type": "markdown",
   "source": "# Preparing the dataset\n",
   "id": "641a3d89538da4e4"
  },
  {
   "metadata": {
    "ExecuteTime": {
     "end_time": "2024-12-05T11:12:08.361378Z",
     "start_time": "2024-12-05T11:12:02.525411Z"
    }
   },
   "cell_type": "code",
   "source": [
    "#Rename target_bool column to label\n",
    "df_transformed = df.withColumnRenamed(\"fraud_bool\", \"label\")\n",
    "# Get a list of the columns in the dataset\n",
    "columns = df_transformed.columns\n",
    "\n",
    "# Remove the target column from the list\n",
    "columns.remove(\"label\")\n",
    "assembler = VectorAssembler(inputCols=columns, outputCol='features')\n",
    "data_transformed = assembler.transform(df_transformed)\n",
    "# Prepare the final dataset\n",
    "dataset = data_transformed.select('features', 'label')  # Ensure you have 'features' and 'label' columns\n",
    "\n",
    "train, test = dataset.randomSplit([0.8, 0.2], seed=42)\n"
   ],
   "id": "f24e45136e186cd7",
   "outputs": [
    {
     "name": "stderr",
     "output_type": "stream",
     "text": [
      "                                                                                \r"
     ]
    }
   ],
   "execution_count": 26
  },
  {
   "metadata": {},
   "cell_type": "markdown",
   "source": "# Baseline Model\n",
   "id": "ca0f746827c9ef81"
  },
  {
   "metadata": {
    "ExecuteTime": {
     "end_time": "2024-12-05T10:22:21.335359Z",
     "start_time": "2024-12-05T10:21:46.706839Z"
    }
   },
   "cell_type": "code",
   "source": [
    "\n",
    "layers = [30, 10, 5, 2]\n",
    "\n",
    "# create the trainer and set its parameters\n",
    "trainer = MultilayerPerceptronClassifier(maxIter=100, layers=layers, blockSize=256, seed=1234)\n",
    "\n",
    "# train the model\n",
    "model = trainer.fit(train)\n",
    "\n",
    "# compute accuracy on the test set\n",
    "result = model.transform(test)\n",
    "predictionAndLabels = result.select(\"prediction\", \"label\")\n",
    "evaluator = MulticlassClassificationEvaluator(metricName=\"accuracy\")\n",
    "print(\"Test set accuracy = \" + str(evaluator.evaluate(predictionAndLabels)))"
   ],
   "id": "9242754abb2c6eef",
   "outputs": [
    {
     "name": "stderr",
     "output_type": "stream",
     "text": [
      "[Stage 695:=====================================>                (22 + 10) / 32]\r"
     ]
    },
    {
     "name": "stdout",
     "output_type": "stream",
     "text": [
      "Test set accuracy = 0.9888687096484488\n"
     ]
    },
    {
     "name": "stderr",
     "output_type": "stream",
     "text": [
      "                                                                                \r"
     ]
    }
   ],
   "execution_count": 12
  },
  {
   "metadata": {
    "ExecuteTime": {
     "end_time": "2024-12-05T10:22:28.253596Z",
     "start_time": "2024-12-05T10:22:21.371766Z"
    }
   },
   "cell_type": "code",
   "source": [
    "# print classification report for both classes 0 and 1\n",
    "from sklearn.metrics import classification_report\n",
    "y_true = result.select(\"label\")\n",
    "y_true = y_true.toPandas()\n",
    "y_pred = result.select(\"prediction\")\n",
    "y_pred = y_pred.toPandas()\n",
    "print(classification_report(y_true, y_pred))\n"
   ],
   "id": "651b204fa32cb244",
   "outputs": [
    {
     "name": "stderr",
     "output_type": "stream",
     "text": [
      "                                                                                \r"
     ]
    },
    {
     "name": "stdout",
     "output_type": "stream",
     "text": [
      "              precision    recall  f1-score   support\n",
      "\n",
      "         0.0       0.99      1.00      0.99    198205\n",
      "         1.0       0.29      0.00      0.01      2221\n",
      "\n",
      "    accuracy                           0.99    200426\n",
      "   macro avg       0.64      0.50      0.50    200426\n",
      "weighted avg       0.98      0.99      0.98    200426\n",
      "\n"
     ]
    }
   ],
   "execution_count": 13
  },
  {
   "metadata": {},
   "cell_type": "markdown",
   "source": "# GridSearch CV for MLP\n",
   "id": "6d1b091800f60d2a"
  },
  {
   "metadata": {
    "ExecuteTime": {
     "end_time": "2024-12-04T20:02:07.452041Z",
     "start_time": "2024-12-04T19:26:32.595501Z"
    }
   },
   "cell_type": "code",
   "source": [
    "\n",
    "layers = [30, 16, 8, 5, 2]\n",
    "\n",
    "# Calculate total parameters\n",
    "total_params = sum(layers[i] * layers[i + 1] + layers[i + 1] for i in range(len(layers) - 1))\n",
    "\n",
    "# Generate random initial weights\n",
    "initial_weights = np.random.uniform(-1, 1, total_params)\n",
    "\n",
    "# create the trainer and set its parameters\n",
    "trainer = MultilayerPerceptronClassifier(maxIter=100, layers=layers, blockSize=256, seed=1234, initialWeights=initial_weights.tolist())\n",
    "\n",
    "# create the evaluator\n",
    "evaluator = MulticlassClassificationEvaluator(metricName=\"accuracy\")\n",
    "\n",
    "# create the parameter grid\n",
    "paramGrid = ParamGridBuilder() \\\n",
    "    .addGrid(trainer.blockSize, [128, 256, 512]) \\\n",
    "    .addGrid(trainer.maxIter, [100, 200, 300, 400]) \\\n",
    "    .addGrid(trainer.solver, ['gd', 'l-bfgs']) \\\n",
    "    .build()\n",
    "\n",
    "\n",
    "# create the cross-validator\n",
    "crossval = CrossValidator(estimator=trainer,\n",
    "                          estimatorParamMaps=paramGrid,\n",
    "                          evaluator=evaluator,\n",
    "                          numFolds=3)\n",
    "\n",
    "# Run cross-validation, and choose the best set of parameters.\n",
    "cvModel = crossval.fit(train_undersampled)\n",
    "\n",
    "# Make predictions on test documents. cvModel uses the best model found (lrModel).\n",
    "prediction = cvModel.transform(test)"
   ],
   "id": "72d8fff3163cf509",
   "outputs": [
    {
     "name": "stderr",
     "output_type": "stream",
     "text": [
      "24/12/04 20:50:48 WARN BlockManager: Asked to remove block broadcast_114462, which does not exist\n",
      "                                                                                \r"
     ]
    }
   ],
   "execution_count": 33
  },
  {
   "metadata": {},
   "cell_type": "markdown",
   "source": "# Best Parameters",
   "id": "a6e50c68cc2d306c"
  },
  {
   "metadata": {
    "ExecuteTime": {
     "end_time": "2024-12-04T20:06:58.302370Z",
     "start_time": "2024-12-04T20:06:58.295763Z"
    }
   },
   "cell_type": "code",
   "source": [
    "best_model = cvModel.bestModel\n",
    "print('Best Param (BlockSize): ', best_model._java_obj.getBlockSize())\n",
    "print('Best Param (MaxIter): ', best_model._java_obj.getMaxIter())\n",
    "print('Best Param (Solver): ', best_model._java_obj.getSolver())"
   ],
   "id": "f841180af22222a2",
   "outputs": [
    {
     "name": "stdout",
     "output_type": "stream",
     "text": [
      "Best Param (BlockSize):  128\n",
      "Best Param (MaxIter):  400\n",
      "Best Param (Solver):  l-bfgs\n"
     ]
    }
   ],
   "execution_count": 34
  },
  {
   "metadata": {},
   "cell_type": "markdown",
   "source": "# Training on undersampled data with Best Parameters",
   "id": "bd274655bfb3c3c5"
  },
  {
   "metadata": {
    "ExecuteTime": {
     "end_time": "2024-12-05T11:13:25.601254Z",
     "start_time": "2024-12-05T11:12:21.590999Z"
    }
   },
   "cell_type": "code",
   "source": [
    "# specify layers for the neural network:\n",
    "layers = [30, 16, 8, 5, 2]\n",
    "\n",
    "train_undersampled_ratio_2 = undersample_majority(train, ratio=2)\n",
    "# Calculate total parameters\n",
    "total_params = sum(layers[i] * layers[i + 1] + layers[i + 1] for i in range(len(layers) - 1))\n",
    "\n",
    "# Generate random initial weights\n",
    "initial_weights = np.random.uniform(-1, 1, total_params)\n",
    "\n",
    "# create the trainer and set its parameters\n",
    "trainer_for_accuracy = MultilayerPerceptronClassifier(maxIter=400, layers=layers, blockSize=128, seed=1234, initialWeights=initial_weights.tolist(), solver='l-bfgs')\n",
    "model_acc = trainer_for_accuracy.fit(train_undersampled_ratio_2)\n",
    "prediction = model_acc.transform(test)\n",
    "print_classification_report(prediction)\n"
   ],
   "id": "775635d71be2ecac",
   "outputs": [
    {
     "name": "stderr",
     "output_type": "stream",
     "text": [
      "                                                                                \r"
     ]
    },
    {
     "name": "stdout",
     "output_type": "stream",
     "text": [
      "              precision    recall  f1-score   support\n",
      "\n",
      "         0.0       1.00      0.88      0.94    198205\n",
      "         1.0       0.06      0.67      0.11      2221\n",
      "\n",
      "    accuracy                           0.88    200426\n",
      "   macro avg       0.53      0.78      0.52    200426\n",
      "weighted avg       0.99      0.88      0.93    200426\n",
      "\n"
     ]
    }
   ],
   "execution_count": 27
  },
  {
   "metadata": {
    "ExecuteTime": {
     "end_time": "2024-12-05T11:15:09.467289Z",
     "start_time": "2024-12-05T11:14:03.612113Z"
    }
   },
   "cell_type": "code",
   "source": [
    "layers = [30, 16, 8, 5, 2]\n",
    "\n",
    "train_undersampled_ratio_1 = undersample_majority(train, ratio=1)\n",
    "# Calculate total parameters\n",
    "total_params = sum(layers[i] * layers[i + 1] + layers[i + 1] for i in range(len(layers) - 1))\n",
    "\n",
    "# Generate random initial weights\n",
    "initial_weights = np.random.uniform(-1, 1, total_params)\n",
    "\n",
    "# create the trainer and set its parameters\n",
    "trainer_for_accuracy = MultilayerPerceptronClassifier(maxIter=400, layers=layers, blockSize=128, seed=1234, initialWeights=initial_weights.tolist(), solver='l-bfgs')\n",
    "model_acc = trainer_for_accuracy.fit(train_undersampled_ratio_1)\n",
    "prediction = model_acc.transform(test)\n",
    "print_classification_report(prediction)"
   ],
   "id": "a223c30a9ded644a",
   "outputs": [
    {
     "name": "stderr",
     "output_type": "stream",
     "text": [
      "                                                                                \r"
     ]
    },
    {
     "name": "stdout",
     "output_type": "stream",
     "text": [
      "              precision    recall  f1-score   support\n",
      "\n",
      "         0.0       1.00      0.81      0.89    198205\n",
      "         1.0       0.04      0.78      0.08      2221\n",
      "\n",
      "    accuracy                           0.81    200426\n",
      "   macro avg       0.52      0.79      0.49    200426\n",
      "weighted avg       0.99      0.81      0.88    200426\n",
      "\n"
     ]
    }
   ],
   "execution_count": 28
  },
  {
   "metadata": {
    "ExecuteTime": {
     "end_time": "2024-12-05T11:18:45.605518Z",
     "start_time": "2024-12-05T11:18:40.039585Z"
    }
   },
   "cell_type": "code",
   "source": [
    "from sklearn.metrics import roc_curve\n",
    "from sklearn.metrics import auc\n",
    "import matplotlib.pyplot as plt\n",
    "\n",
    "y_true = prediction.select(\"label\")\n",
    "y_true = y_true.toPandas()\n",
    "y_pred = prediction.select(\"prediction\")\n",
    "y_pred = y_pred.toPandas()\n",
    "fpr, tpr, thresholds = roc_curve(y_true, y_pred)\n",
    "roc_auc = auc(fpr, tpr)\n",
    "\n",
    "plt.figure()\n",
    "plt.plot(fpr, tpr, color='darkorange', lw=1, label='ROC curve (area = %0.2f)' % roc_auc)\n",
    "plt.plot([0, 1], [0, 1], color='navy', lw=1, linestyle='--')\n",
    "plt.xlim([0.0, 1.0])\n",
    "plt.ylim([0.0, 1.05])\n",
    "plt.xlabel('False Positive Rate')\n",
    "plt.ylabel('True Positive Rate')\n",
    "plt.title('Receiver Operating Characteristic')\n",
    "plt.legend(loc=\"lower right\")\n",
    "plt.show()\n"
   ],
   "id": "cd6aff5f64f2d49a",
   "outputs": [
    {
     "name": "stderr",
     "output_type": "stream",
     "text": [
      "                                                                                \r"
     ]
    },
    {
     "data": {
      "text/plain": [
       "<Figure size 640x480 with 1 Axes>"
      ],
      "image/png": "[encoded data removed]"
     },
     "metadata": {},
     "output_type": "display_data"
    }
   ],
   "execution_count": 29
  },
  {
   "metadata": {},
   "cell_type": "code",
   "outputs": [],
   "execution_count": null,
   "source": "",
   "id": "f119913e620ff573"
  }
 ],
 "metadata": {
  "kernelspec": {
   "display_name": "Python 3",
   "language": "python",
   "name": "python3"
  },
  "language_info": {
   "codemirror_mode": {
    "name": "ipython",
    "version": 2
   },
   "file_extension": ".py",
   "mimetype": "text/x-python",
   "name": "python",
   "nbconvert_exporter": "python",
   "pygments_lexer": "ipython2",
   "version": "2.7.6"
  }
 },
 "nbformat": 4,
 "nbformat_minor": 5
}
